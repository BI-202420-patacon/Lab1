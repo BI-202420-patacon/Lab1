{
 "cells": [
  {
   "cell_type": "markdown",
   "metadata": {},
   "source": [
    "## Los datos\n",
    "- Grupo\n",
    "- Sexo\n",
    "- Edad\n",
    "- Modo_Llegada\n",
    "- Lesión\n",
    "- Queja_Principal\n",
    "- Estado_Mental\n",
    "- Dolor\n",
    "- Dolor_NRS\n",
    "- SBP\n",
    "- DBP\n",
    "- HR\n",
    "- RR\n",
    "- BT\n",
    "- Saturación\n",
    "- KTAS_Enfermera\n",
    "- Diagnóstico_Urgencias\n",
    "- Disposición\n",
    "- KTAS_Experto\n",
    "- Grupo_Error\n",
    "- Duración_Estancia_Min\n",
    "- Duración_KTAS_Min\n",
    "- Error_Triaje\n"
   ]
  },
  {
   "cell_type": "code",
   "execution_count": 38,
   "metadata": {},
   "outputs": [],
   "source": [
    "import numpy as np\n",
    "import pandas as pd\n",
    "\n",
    "from joblib import dump, load\n",
    "\n",
    "import matplotlib.pyplot as plt\n",
    "import seaborn as sns\n",
    "\n",
    "from sklearn.model_selection import train_test_split\n",
    "from sklearn.linear_model import LinearRegression\n",
    "from sklearn.pipeline import Pipeline\n",
    "from sklearn.compose import ColumnTransformer\n",
    "from sklearn.preprocessing import StandardScaler\n",
    "from sklearn.preprocessing import PolynomialFeatures\n",
    "from sklearn.metrics import mean_absolute_error, mean_squared_error, r2_score\n",
    "\n",
    "import scipy.stats as stats"
   ]
  },
  {
   "cell_type": "markdown",
   "metadata": {},
   "source": [
    "## 1. Carga de los datos"
   ]
  },
  {
   "cell_type": "code",
   "execution_count": 39,
   "metadata": {},
   "outputs": [],
   "source": [
    "datos = pd.read_csv(\"./data/Regresión_train_data.csv\")"
   ]
  },
  {
   "cell_type": "code",
   "execution_count": 40,
   "metadata": {},
   "outputs": [
    {
     "data": {
      "text/plain": [
       "(1000, 23)"
      ]
     },
     "execution_count": 40,
     "metadata": {},
     "output_type": "execute_result"
    }
   ],
   "source": [
    "datos.shape"
   ]
  },
  {
   "cell_type": "code",
   "execution_count": 41,
   "metadata": {},
   "outputs": [
    {
     "data": {
      "text/plain": [
       "Grupo                         int64\n",
       "Sexo                          int64\n",
       "Edad                          int64\n",
       "Modo_Llegada                  int64\n",
       "Lesion                        int64\n",
       "Queja_Principal              object\n",
       "Estado_Mental                 int64\n",
       "Dolor                         int64\n",
       "dolor_NRS                    object\n",
       "SBP                         float64\n",
       "DBP                         float64\n",
       "HR                          float64\n",
       "RR                          float64\n",
       "BT                          float64\n",
       "Saturacion                  float64\n",
       "KTAS_enfermera                int64\n",
       "Diagnostico_En_Urgencias     object\n",
       "Disposicion                   int64\n",
       "KTAS_experto                  int64\n",
       "Grupo_De_Error                int64\n",
       "Duracion_Estancia_Min         int64\n",
       "Duracion_KTAS_Min            object\n",
       "Error_Triaje                  int64\n",
       "dtype: object"
      ]
     },
     "execution_count": 41,
     "metadata": {},
     "output_type": "execute_result"
    }
   ],
   "source": [
    "datos.dtypes"
   ]
  },
  {
   "cell_type": "code",
   "execution_count": 42,
   "metadata": {},
   "outputs": [
    {
     "data": {
      "text/html": [
       "<div>\n",
       "<style scoped>\n",
       "    .dataframe tbody tr th:only-of-type {\n",
       "        vertical-align: middle;\n",
       "    }\n",
       "\n",
       "    .dataframe tbody tr th {\n",
       "        vertical-align: top;\n",
       "    }\n",
       "\n",
       "    .dataframe thead th {\n",
       "        text-align: right;\n",
       "    }\n",
       "</style>\n",
       "<table border=\"1\" class=\"dataframe\">\n",
       "  <thead>\n",
       "    <tr style=\"text-align: right;\">\n",
       "      <th></th>\n",
       "      <th>Grupo</th>\n",
       "      <th>Sexo</th>\n",
       "      <th>Edad</th>\n",
       "      <th>Modo_Llegada</th>\n",
       "      <th>Lesion</th>\n",
       "      <th>Queja_Principal</th>\n",
       "      <th>Estado_Mental</th>\n",
       "      <th>Dolor</th>\n",
       "      <th>dolor_NRS</th>\n",
       "      <th>SBP</th>\n",
       "      <th>...</th>\n",
       "      <th>BT</th>\n",
       "      <th>Saturacion</th>\n",
       "      <th>KTAS_enfermera</th>\n",
       "      <th>Diagnostico_En_Urgencias</th>\n",
       "      <th>Disposicion</th>\n",
       "      <th>KTAS_experto</th>\n",
       "      <th>Grupo_De_Error</th>\n",
       "      <th>Duracion_Estancia_Min</th>\n",
       "      <th>Duracion_KTAS_Min</th>\n",
       "      <th>Error_Triaje</th>\n",
       "    </tr>\n",
       "  </thead>\n",
       "  <tbody>\n",
       "    <tr>\n",
       "      <th>666</th>\n",
       "      <td>1</td>\n",
       "      <td>1</td>\n",
       "      <td>46</td>\n",
       "      <td>2</td>\n",
       "      <td>1</td>\n",
       "      <td>alcohol smelling state, drunken state</td>\n",
       "      <td>2</td>\n",
       "      <td>0</td>\n",
       "      <td>#BOÞ!</td>\n",
       "      <td>154.0</td>\n",
       "      <td>...</td>\n",
       "      <td>36.4</td>\n",
       "      <td>NaN</td>\n",
       "      <td>4</td>\n",
       "      <td>Acute intoxication of alcohol</td>\n",
       "      <td>1</td>\n",
       "      <td>4</td>\n",
       "      <td>0</td>\n",
       "      <td>621</td>\n",
       "      <td>5,13</td>\n",
       "      <td>0</td>\n",
       "    </tr>\n",
       "    <tr>\n",
       "      <th>601</th>\n",
       "      <td>2</td>\n",
       "      <td>1</td>\n",
       "      <td>81</td>\n",
       "      <td>4</td>\n",
       "      <td>2</td>\n",
       "      <td>Left leg pain</td>\n",
       "      <td>1</td>\n",
       "      <td>1</td>\n",
       "      <td>4</td>\n",
       "      <td>200.0</td>\n",
       "      <td>...</td>\n",
       "      <td>36.0</td>\n",
       "      <td>98.0</td>\n",
       "      <td>3</td>\n",
       "      <td>Closed, fracture of shaft of femur</td>\n",
       "      <td>5</td>\n",
       "      <td>4</td>\n",
       "      <td>4</td>\n",
       "      <td>185</td>\n",
       "      <td>3,00</td>\n",
       "      <td>1</td>\n",
       "    </tr>\n",
       "    <tr>\n",
       "      <th>162</th>\n",
       "      <td>1</td>\n",
       "      <td>1</td>\n",
       "      <td>79</td>\n",
       "      <td>3</td>\n",
       "      <td>1</td>\n",
       "      <td>abd pain</td>\n",
       "      <td>1</td>\n",
       "      <td>1</td>\n",
       "      <td>3</td>\n",
       "      <td>159.0</td>\n",
       "      <td>...</td>\n",
       "      <td>36.6</td>\n",
       "      <td>NaN</td>\n",
       "      <td>4</td>\n",
       "      <td>Cholangitis</td>\n",
       "      <td>2</td>\n",
       "      <td>4</td>\n",
       "      <td>0</td>\n",
       "      <td>608</td>\n",
       "      <td>9,62</td>\n",
       "      <td>0</td>\n",
       "    </tr>\n",
       "    <tr>\n",
       "      <th>64</th>\n",
       "      <td>1</td>\n",
       "      <td>1</td>\n",
       "      <td>85</td>\n",
       "      <td>3</td>\n",
       "      <td>2</td>\n",
       "      <td>Burn, hand</td>\n",
       "      <td>1</td>\n",
       "      <td>1</td>\n",
       "      <td>5</td>\n",
       "      <td>141.0</td>\n",
       "      <td>...</td>\n",
       "      <td>36.0</td>\n",
       "      <td>NaN</td>\n",
       "      <td>4</td>\n",
       "      <td>Burn, second degree</td>\n",
       "      <td>1</td>\n",
       "      <td>4</td>\n",
       "      <td>0</td>\n",
       "      <td>53</td>\n",
       "      <td>7,02</td>\n",
       "      <td>0</td>\n",
       "    </tr>\n",
       "    <tr>\n",
       "      <th>170</th>\n",
       "      <td>2</td>\n",
       "      <td>1</td>\n",
       "      <td>44</td>\n",
       "      <td>3</td>\n",
       "      <td>1</td>\n",
       "      <td>Abd. pain</td>\n",
       "      <td>1</td>\n",
       "      <td>1</td>\n",
       "      <td>3</td>\n",
       "      <td>120.0</td>\n",
       "      <td>...</td>\n",
       "      <td>36.9</td>\n",
       "      <td>98.0</td>\n",
       "      <td>3</td>\n",
       "      <td>Unspecified abdominal pain</td>\n",
       "      <td>1</td>\n",
       "      <td>3</td>\n",
       "      <td>0</td>\n",
       "      <td>8996</td>\n",
       "      <td>4,00</td>\n",
       "      <td>0</td>\n",
       "    </tr>\n",
       "  </tbody>\n",
       "</table>\n",
       "<p>5 rows × 23 columns</p>\n",
       "</div>"
      ],
      "text/plain": [
       "     Grupo  Sexo  Edad  Modo_Llegada  Lesion  \\\n",
       "666      1     1    46             2       1   \n",
       "601      2     1    81             4       2   \n",
       "162      1     1    79             3       1   \n",
       "64       1     1    85             3       2   \n",
       "170      2     1    44             3       1   \n",
       "\n",
       "                           Queja_Principal  Estado_Mental  Dolor dolor_NRS  \\\n",
       "666  alcohol smelling state, drunken state              2      0     #BOÞ!   \n",
       "601                          Left leg pain              1      1         4   \n",
       "162                               abd pain              1      1         3   \n",
       "64                              Burn, hand              1      1         5   \n",
       "170                              Abd. pain              1      1         3   \n",
       "\n",
       "       SBP  ...    BT  Saturacion  KTAS_enfermera  \\\n",
       "666  154.0  ...  36.4         NaN               4   \n",
       "601  200.0  ...  36.0        98.0               3   \n",
       "162  159.0  ...  36.6         NaN               4   \n",
       "64   141.0  ...  36.0         NaN               4   \n",
       "170  120.0  ...  36.9        98.0               3   \n",
       "\n",
       "               Diagnostico_En_Urgencias  Disposicion  KTAS_experto  \\\n",
       "666       Acute intoxication of alcohol            1             4   \n",
       "601  Closed, fracture of shaft of femur            5             4   \n",
       "162                         Cholangitis            2             4   \n",
       "64                  Burn, second degree            1             4   \n",
       "170          Unspecified abdominal pain            1             3   \n",
       "\n",
       "    Grupo_De_Error  Duracion_Estancia_Min  Duracion_KTAS_Min  Error_Triaje  \n",
       "666              0                    621               5,13             0  \n",
       "601              4                    185               3,00             1  \n",
       "162              0                    608               9,62             0  \n",
       "64               0                     53               7,02             0  \n",
       "170              0                   8996               4,00             0  \n",
       "\n",
       "[5 rows x 23 columns]"
      ]
     },
     "execution_count": 42,
     "metadata": {},
     "output_type": "execute_result"
    }
   ],
   "source": [
    "datos.sample(5)"
   ]
  },
  {
   "cell_type": "markdown",
   "metadata": {},
   "source": [
    "## 2. Entendimiento de los datos"
   ]
  },
  {
   "cell_type": "markdown",
   "metadata": {},
   "source": [
    "Variables numericas candidatas a utilizar"
   ]
  },
  {
   "cell_type": "code",
   "execution_count": 43,
   "metadata": {},
   "outputs": [],
   "source": [
    "candidatas = [\"Sexo\",\"Edad\",\"Modo_Llegada\",\"Lesion\",\"Estado_Mental\",\"Dolor\",\"dolor_NRS\",\"SBP\",\"DBP\", \"HR\", \"RR\", \"BT\",\"Saturacion\",\"KTAS_enfermera\",\"Disposicion\",\"KTAS_experto\",\"Duracion_KTAS_Min\"]"
   ]
  },
  {
   "cell_type": "code",
   "execution_count": 44,
   "metadata": {},
   "outputs": [
    {
     "data": {
      "text/html": [
       "<div>\n",
       "<style scoped>\n",
       "    .dataframe tbody tr th:only-of-type {\n",
       "        vertical-align: middle;\n",
       "    }\n",
       "\n",
       "    .dataframe tbody tr th {\n",
       "        vertical-align: top;\n",
       "    }\n",
       "\n",
       "    .dataframe thead th {\n",
       "        text-align: right;\n",
       "    }\n",
       "</style>\n",
       "<table border=\"1\" class=\"dataframe\">\n",
       "  <thead>\n",
       "    <tr style=\"text-align: right;\">\n",
       "      <th></th>\n",
       "      <th>Grupo</th>\n",
       "      <th>Sexo</th>\n",
       "      <th>Edad</th>\n",
       "      <th>Modo_Llegada</th>\n",
       "      <th>Lesion</th>\n",
       "      <th>Estado_Mental</th>\n",
       "      <th>Dolor</th>\n",
       "      <th>SBP</th>\n",
       "      <th>DBP</th>\n",
       "      <th>HR</th>\n",
       "      <th>RR</th>\n",
       "      <th>BT</th>\n",
       "      <th>Saturacion</th>\n",
       "      <th>KTAS_enfermera</th>\n",
       "      <th>Disposicion</th>\n",
       "      <th>KTAS_experto</th>\n",
       "      <th>Grupo_De_Error</th>\n",
       "      <th>Duracion_Estancia_Min</th>\n",
       "      <th>Error_Triaje</th>\n",
       "    </tr>\n",
       "  </thead>\n",
       "  <tbody>\n",
       "    <tr>\n",
       "      <th>count</th>\n",
       "      <td>1000.000000</td>\n",
       "      <td>1000.000000</td>\n",
       "      <td>1000.000000</td>\n",
       "      <td>1000.000000</td>\n",
       "      <td>1000.0000</td>\n",
       "      <td>1000.000000</td>\n",
       "      <td>1000.000000</td>\n",
       "      <td>983.000000</td>\n",
       "      <td>979.000000</td>\n",
       "      <td>988.000000</td>\n",
       "      <td>985.000000</td>\n",
       "      <td>989.000000</td>\n",
       "      <td>444.000000</td>\n",
       "      <td>1000.000000</td>\n",
       "      <td>1000.000000</td>\n",
       "      <td>1000.000000</td>\n",
       "      <td>1000.000000</td>\n",
       "      <td>1000.000000</td>\n",
       "      <td>1000.000000</td>\n",
       "    </tr>\n",
       "    <tr>\n",
       "      <th>mean</th>\n",
       "      <td>1.450000</td>\n",
       "      <td>1.514000</td>\n",
       "      <td>53.892000</td>\n",
       "      <td>2.811000</td>\n",
       "      <td>1.2000</td>\n",
       "      <td>1.103000</td>\n",
       "      <td>0.562000</td>\n",
       "      <td>133.485249</td>\n",
       "      <td>79.566905</td>\n",
       "      <td>84.400810</td>\n",
       "      <td>19.450761</td>\n",
       "      <td>36.562993</td>\n",
       "      <td>97.047297</td>\n",
       "      <td>3.328000</td>\n",
       "      <td>1.610000</td>\n",
       "      <td>3.260000</td>\n",
       "      <td>0.569000</td>\n",
       "      <td>12792.480000</td>\n",
       "      <td>0.253000</td>\n",
       "    </tr>\n",
       "    <tr>\n",
       "      <th>std</th>\n",
       "      <td>0.497743</td>\n",
       "      <td>0.500054</td>\n",
       "      <td>19.826483</td>\n",
       "      <td>0.796186</td>\n",
       "      <td>0.4002</td>\n",
       "      <td>0.431946</td>\n",
       "      <td>0.496389</td>\n",
       "      <td>27.156136</td>\n",
       "      <td>15.174593</td>\n",
       "      <td>16.297428</td>\n",
       "      <td>2.069882</td>\n",
       "      <td>0.519699</td>\n",
       "      <td>4.761112</td>\n",
       "      <td>0.862067</td>\n",
       "      <td>1.161572</td>\n",
       "      <td>0.865534</td>\n",
       "      <td>1.587375</td>\n",
       "      <td>87721.151446</td>\n",
       "      <td>0.630387</td>\n",
       "    </tr>\n",
       "    <tr>\n",
       "      <th>min</th>\n",
       "      <td>1.000000</td>\n",
       "      <td>1.000000</td>\n",
       "      <td>16.000000</td>\n",
       "      <td>1.000000</td>\n",
       "      <td>1.0000</td>\n",
       "      <td>1.000000</td>\n",
       "      <td>0.000000</td>\n",
       "      <td>50.000000</td>\n",
       "      <td>31.000000</td>\n",
       "      <td>32.000000</td>\n",
       "      <td>14.000000</td>\n",
       "      <td>35.000000</td>\n",
       "      <td>20.000000</td>\n",
       "      <td>1.000000</td>\n",
       "      <td>1.000000</td>\n",
       "      <td>1.000000</td>\n",
       "      <td>0.000000</td>\n",
       "      <td>0.000000</td>\n",
       "      <td>0.000000</td>\n",
       "    </tr>\n",
       "    <tr>\n",
       "      <th>25%</th>\n",
       "      <td>1.000000</td>\n",
       "      <td>1.000000</td>\n",
       "      <td>36.000000</td>\n",
       "      <td>2.000000</td>\n",
       "      <td>1.0000</td>\n",
       "      <td>1.000000</td>\n",
       "      <td>0.000000</td>\n",
       "      <td>114.000000</td>\n",
       "      <td>70.000000</td>\n",
       "      <td>73.000000</td>\n",
       "      <td>18.000000</td>\n",
       "      <td>36.200000</td>\n",
       "      <td>97.000000</td>\n",
       "      <td>3.000000</td>\n",
       "      <td>1.000000</td>\n",
       "      <td>3.000000</td>\n",
       "      <td>0.000000</td>\n",
       "      <td>132.750000</td>\n",
       "      <td>0.000000</td>\n",
       "    </tr>\n",
       "    <tr>\n",
       "      <th>50%</th>\n",
       "      <td>1.000000</td>\n",
       "      <td>2.000000</td>\n",
       "      <td>56.000000</td>\n",
       "      <td>3.000000</td>\n",
       "      <td>1.0000</td>\n",
       "      <td>1.000000</td>\n",
       "      <td>1.000000</td>\n",
       "      <td>130.000000</td>\n",
       "      <td>80.000000</td>\n",
       "      <td>82.000000</td>\n",
       "      <td>20.000000</td>\n",
       "      <td>36.500000</td>\n",
       "      <td>98.000000</td>\n",
       "      <td>3.000000</td>\n",
       "      <td>1.000000</td>\n",
       "      <td>3.000000</td>\n",
       "      <td>0.000000</td>\n",
       "      <td>270.500000</td>\n",
       "      <td>0.000000</td>\n",
       "    </tr>\n",
       "    <tr>\n",
       "      <th>75%</th>\n",
       "      <td>2.000000</td>\n",
       "      <td>2.000000</td>\n",
       "      <td>70.250000</td>\n",
       "      <td>3.000000</td>\n",
       "      <td>1.0000</td>\n",
       "      <td>1.000000</td>\n",
       "      <td>1.000000</td>\n",
       "      <td>150.000000</td>\n",
       "      <td>90.000000</td>\n",
       "      <td>96.000000</td>\n",
       "      <td>20.000000</td>\n",
       "      <td>36.800000</td>\n",
       "      <td>99.000000</td>\n",
       "      <td>4.000000</td>\n",
       "      <td>2.000000</td>\n",
       "      <td>4.000000</td>\n",
       "      <td>0.000000</td>\n",
       "      <td>620.000000</td>\n",
       "      <td>0.000000</td>\n",
       "    </tr>\n",
       "    <tr>\n",
       "      <th>max</th>\n",
       "      <td>2.000000</td>\n",
       "      <td>2.000000</td>\n",
       "      <td>94.000000</td>\n",
       "      <td>7.000000</td>\n",
       "      <td>2.0000</td>\n",
       "      <td>4.000000</td>\n",
       "      <td>1.000000</td>\n",
       "      <td>275.000000</td>\n",
       "      <td>160.000000</td>\n",
       "      <td>148.000000</td>\n",
       "      <td>30.000000</td>\n",
       "      <td>39.800000</td>\n",
       "      <td>100.000000</td>\n",
       "      <td>5.000000</td>\n",
       "      <td>7.000000</td>\n",
       "      <td>5.000000</td>\n",
       "      <td>9.000000</td>\n",
       "      <td>709510.000000</td>\n",
       "      <td>2.000000</td>\n",
       "    </tr>\n",
       "  </tbody>\n",
       "</table>\n",
       "</div>"
      ],
      "text/plain": [
       "             Grupo         Sexo         Edad  Modo_Llegada     Lesion  \\\n",
       "count  1000.000000  1000.000000  1000.000000   1000.000000  1000.0000   \n",
       "mean      1.450000     1.514000    53.892000      2.811000     1.2000   \n",
       "std       0.497743     0.500054    19.826483      0.796186     0.4002   \n",
       "min       1.000000     1.000000    16.000000      1.000000     1.0000   \n",
       "25%       1.000000     1.000000    36.000000      2.000000     1.0000   \n",
       "50%       1.000000     2.000000    56.000000      3.000000     1.0000   \n",
       "75%       2.000000     2.000000    70.250000      3.000000     1.0000   \n",
       "max       2.000000     2.000000    94.000000      7.000000     2.0000   \n",
       "\n",
       "       Estado_Mental        Dolor         SBP         DBP          HR  \\\n",
       "count    1000.000000  1000.000000  983.000000  979.000000  988.000000   \n",
       "mean        1.103000     0.562000  133.485249   79.566905   84.400810   \n",
       "std         0.431946     0.496389   27.156136   15.174593   16.297428   \n",
       "min         1.000000     0.000000   50.000000   31.000000   32.000000   \n",
       "25%         1.000000     0.000000  114.000000   70.000000   73.000000   \n",
       "50%         1.000000     1.000000  130.000000   80.000000   82.000000   \n",
       "75%         1.000000     1.000000  150.000000   90.000000   96.000000   \n",
       "max         4.000000     1.000000  275.000000  160.000000  148.000000   \n",
       "\n",
       "               RR          BT  Saturacion  KTAS_enfermera  Disposicion  \\\n",
       "count  985.000000  989.000000  444.000000     1000.000000  1000.000000   \n",
       "mean    19.450761   36.562993   97.047297        3.328000     1.610000   \n",
       "std      2.069882    0.519699    4.761112        0.862067     1.161572   \n",
       "min     14.000000   35.000000   20.000000        1.000000     1.000000   \n",
       "25%     18.000000   36.200000   97.000000        3.000000     1.000000   \n",
       "50%     20.000000   36.500000   98.000000        3.000000     1.000000   \n",
       "75%     20.000000   36.800000   99.000000        4.000000     2.000000   \n",
       "max     30.000000   39.800000  100.000000        5.000000     7.000000   \n",
       "\n",
       "       KTAS_experto  Grupo_De_Error  Duracion_Estancia_Min  Error_Triaje  \n",
       "count   1000.000000     1000.000000            1000.000000   1000.000000  \n",
       "mean       3.260000        0.569000           12792.480000      0.253000  \n",
       "std        0.865534        1.587375           87721.151446      0.630387  \n",
       "min        1.000000        0.000000               0.000000      0.000000  \n",
       "25%        3.000000        0.000000             132.750000      0.000000  \n",
       "50%        3.000000        0.000000             270.500000      0.000000  \n",
       "75%        4.000000        0.000000             620.000000      0.000000  \n",
       "max        5.000000        9.000000          709510.000000      2.000000  "
      ]
     },
     "execution_count": 44,
     "metadata": {},
     "output_type": "execute_result"
    }
   ],
   "source": [
    "datos.describe()"
   ]
  },
  {
   "cell_type": "code",
   "execution_count": 45,
   "metadata": {},
   "outputs": [
    {
     "data": {
      "text/plain": [
       "Sexo\n",
       "2    514\n",
       "1    486\n",
       "Name: count, dtype: int64"
      ]
     },
     "execution_count": 45,
     "metadata": {},
     "output_type": "execute_result"
    }
   ],
   "source": [
    "datos[\"Sexo\"].value_counts()\n"
   ]
  },
  {
   "cell_type": "code",
   "execution_count": 46,
   "metadata": {},
   "outputs": [
    {
     "data": {
      "text/plain": [
       "Error_Triaje\n",
       "0    851\n",
       "2    104\n",
       "1     45\n",
       "Name: count, dtype: int64"
      ]
     },
     "execution_count": 46,
     "metadata": {},
     "output_type": "execute_result"
    }
   ],
   "source": [
    "datos[\"Error_Triaje\"].value_counts()"
   ]
  },
  {
   "cell_type": "code",
   "execution_count": 47,
   "metadata": {},
   "outputs": [
    {
     "data": {
      "text/plain": [
       "Grupo_De_Error\n",
       "0    851\n",
       "1     16\n",
       "2     39\n",
       "3      6\n",
       "4     50\n",
       "5     11\n",
       "6      6\n",
       "7      7\n",
       "8      9\n",
       "9      5\n",
       "Name: count, dtype: int64"
      ]
     },
     "execution_count": 47,
     "metadata": {},
     "output_type": "execute_result"
    }
   ],
   "source": [
    "datos[\"Grupo_De_Error\"].value_counts().sort_index()\n"
   ]
  },
  {
   "cell_type": "code",
   "execution_count": 69,
   "metadata": {},
   "outputs": [
    {
     "data": {
      "text/plain": [
       "<matplotlib.collections.PathCollection at 0x2186b790f80>"
      ]
     },
     "execution_count": 69,
     "metadata": {},
     "output_type": "execute_result"
    },
    {
     "data": {
      "image/png": "[encoded data removed]",
      "text/plain": [
       "<Figure size 640x480 with 1 Axes>"
      ]
     },
     "metadata": {},
     "output_type": "display_data"
    }
   ],
   "source": [
    "datos[[\"KTAS_enfermera\",\"KTAS_experto\",\"Error_Triaje\"]]\n",
    "a = datos[datos[\"KTAS_enfermera\"]!=datos[\"KTAS_experto\"]][[\"KTAS_enfermera\",\"KTAS_experto\",\"Error_Triaje\"]]\n",
    "a[a[\"Error_Triaje\"]==1]\n",
    "plt.scatter(datos[\"Error_Triaje\"], datos[\"KTAS_enfermera\"]/datos[\"KTAS_experto\"])\n"
   ]
  },
  {
   "cell_type": "markdown",
   "metadata": {},
   "source": [
    "Análisis de completitud"
   ]
  },
  {
   "cell_type": "code",
   "execution_count": 49,
   "metadata": {},
   "outputs": [
    {
     "data": {
      "text/plain": [
       "Grupo                       0.000\n",
       "Sexo                        0.000\n",
       "Edad                        0.000\n",
       "Modo_Llegada                0.000\n",
       "Lesion                      0.000\n",
       "Queja_Principal             0.000\n",
       "Estado_Mental               0.000\n",
       "Dolor                       0.000\n",
       "dolor_NRS                   0.000\n",
       "SBP                         0.017\n",
       "DBP                         0.021\n",
       "HR                          0.012\n",
       "RR                          0.015\n",
       "BT                          0.011\n",
       "Saturacion                  0.556\n",
       "KTAS_enfermera              0.000\n",
       "Diagnostico_En_Urgencias    0.001\n",
       "Disposicion                 0.000\n",
       "KTAS_experto                0.000\n",
       "Grupo_De_Error              0.000\n",
       "Duracion_Estancia_Min       0.000\n",
       "Duracion_KTAS_Min           0.000\n",
       "Error_Triaje                0.000\n",
       "dtype: float64"
      ]
     },
     "execution_count": 49,
     "metadata": {},
     "output_type": "execute_result"
    }
   ],
   "source": [
    "datos.isnull().sum() / datos.shape[0]"
   ]
  },
  {
   "cell_type": "markdown",
   "metadata": {},
   "source": [
    "### 2.1. Búsqueda de relaciones con la variable objetivo\n",
    "\n",
    "Si se logra visualizar o cuantificar altas correlaciones entre las variables de entrada y la variable objetivo, se podrán soportar las decisiones del experto con base en la evidencia."
   ]
  },
  {
   "cell_type": "code",
   "execution_count": 72,
   "metadata": {},
   "outputs": [
    {
     "data": {
      "text/plain": [
       "<seaborn.axisgrid.PairGrid at 0x2186de96960>"
      ]
     },
     "execution_count": 72,
     "metadata": {},
     "output_type": "execute_result"
    },
    {
     "data": {
      "image/png": "[encoded data removed]",
      "text/plain": [
       "<Figure size 5100x300 with 17 Axes>"
      ]
     },
     "metadata": {},
     "output_type": "display_data"
    }
   ],
   "source": [
    "sns.pairplot(datos.sample(frac=0.2), height=3, y_vars=\"Duracion_Estancia_Min\", x_vars=candidatas, kind=\"scatter\")"
   ]
  },
  {
   "cell_type": "markdown",
   "metadata": {},
   "source": [
    "### 2.2. Búsqueda de relaciones entre las variables de entrada\n",
    "\n",
    "**Importante:** La regresión lineal asume que sus variables de entrada no se encuentran altamente correlacionados."
   ]
  },
  {
   "cell_type": "code",
   "execution_count": 51,
   "metadata": {},
   "outputs": [
    {
     "ename": "ValueError",
     "evalue": "could not convert string to float: '#BOÞ!'",
     "output_type": "error",
     "traceback": [
      "\u001b[1;31m---------------------------------------------------------------------------\u001b[0m",
      "\u001b[1;31mValueError\u001b[0m                                Traceback (most recent call last)",
      "Cell \u001b[1;32mIn[51], line 2\u001b[0m\n\u001b[0;32m      1\u001b[0m plt\u001b[38;5;241m.\u001b[39mfigure(figsize\u001b[38;5;241m=\u001b[39m(\u001b[38;5;241m12\u001b[39m, \u001b[38;5;241m10\u001b[39m))\n\u001b[1;32m----> 2\u001b[0m sns\u001b[38;5;241m.\u001b[39mheatmap(\u001b[43mdatos\u001b[49m\u001b[43m[\u001b[49m\u001b[43mcandidatas\u001b[49m\u001b[38;5;241;43m+\u001b[39;49m\u001b[43m[\u001b[49m\u001b[38;5;124;43m'\u001b[39;49m\u001b[38;5;124;43mDuracion_Estancia_Min\u001b[39;49m\u001b[38;5;124;43m'\u001b[39;49m\u001b[43m]\u001b[49m\u001b[43m]\u001b[49m\u001b[38;5;241;43m.\u001b[39;49m\u001b[43mcorr\u001b[49m\u001b[43m(\u001b[49m\u001b[43m)\u001b[49m, cmap\u001b[38;5;241m=\u001b[39m\u001b[38;5;124m\"\u001b[39m\u001b[38;5;124mBlues\u001b[39m\u001b[38;5;124m\"\u001b[39m, vmin\u001b[38;5;241m=\u001b[39m\u001b[38;5;241m0\u001b[39m, vmax\u001b[38;5;241m=\u001b[39m\u001b[38;5;241m1\u001b[39m, annot \u001b[38;5;241m=\u001b[39m \u001b[38;5;28;01mTrue\u001b[39;00m)\n",
      "File \u001b[1;32mc:\\Users\\santi\\anaconda3\\Lib\\site-packages\\pandas\\core\\frame.py:11049\u001b[0m, in \u001b[0;36mDataFrame.corr\u001b[1;34m(self, method, min_periods, numeric_only)\u001b[0m\n\u001b[0;32m  11047\u001b[0m cols \u001b[38;5;241m=\u001b[39m data\u001b[38;5;241m.\u001b[39mcolumns\n\u001b[0;32m  11048\u001b[0m idx \u001b[38;5;241m=\u001b[39m cols\u001b[38;5;241m.\u001b[39mcopy()\n\u001b[1;32m> 11049\u001b[0m mat \u001b[38;5;241m=\u001b[39m \u001b[43mdata\u001b[49m\u001b[38;5;241;43m.\u001b[39;49m\u001b[43mto_numpy\u001b[49m\u001b[43m(\u001b[49m\u001b[43mdtype\u001b[49m\u001b[38;5;241;43m=\u001b[39;49m\u001b[38;5;28;43mfloat\u001b[39;49m\u001b[43m,\u001b[49m\u001b[43m \u001b[49m\u001b[43mna_value\u001b[49m\u001b[38;5;241;43m=\u001b[39;49m\u001b[43mnp\u001b[49m\u001b[38;5;241;43m.\u001b[39;49m\u001b[43mnan\u001b[49m\u001b[43m,\u001b[49m\u001b[43m \u001b[49m\u001b[43mcopy\u001b[49m\u001b[38;5;241;43m=\u001b[39;49m\u001b[38;5;28;43;01mFalse\u001b[39;49;00m\u001b[43m)\u001b[49m\n\u001b[0;32m  11051\u001b[0m \u001b[38;5;28;01mif\u001b[39;00m method \u001b[38;5;241m==\u001b[39m \u001b[38;5;124m\"\u001b[39m\u001b[38;5;124mpearson\u001b[39m\u001b[38;5;124m\"\u001b[39m:\n\u001b[0;32m  11052\u001b[0m     correl \u001b[38;5;241m=\u001b[39m libalgos\u001b[38;5;241m.\u001b[39mnancorr(mat, minp\u001b[38;5;241m=\u001b[39mmin_periods)\n",
      "File \u001b[1;32mc:\\Users\\santi\\anaconda3\\Lib\\site-packages\\pandas\\core\\frame.py:1993\u001b[0m, in \u001b[0;36mDataFrame.to_numpy\u001b[1;34m(self, dtype, copy, na_value)\u001b[0m\n\u001b[0;32m   1991\u001b[0m \u001b[38;5;28;01mif\u001b[39;00m dtype \u001b[38;5;129;01mis\u001b[39;00m \u001b[38;5;129;01mnot\u001b[39;00m \u001b[38;5;28;01mNone\u001b[39;00m:\n\u001b[0;32m   1992\u001b[0m     dtype \u001b[38;5;241m=\u001b[39m np\u001b[38;5;241m.\u001b[39mdtype(dtype)\n\u001b[1;32m-> 1993\u001b[0m result \u001b[38;5;241m=\u001b[39m \u001b[38;5;28;43mself\u001b[39;49m\u001b[38;5;241;43m.\u001b[39;49m\u001b[43m_mgr\u001b[49m\u001b[38;5;241;43m.\u001b[39;49m\u001b[43mas_array\u001b[49m\u001b[43m(\u001b[49m\u001b[43mdtype\u001b[49m\u001b[38;5;241;43m=\u001b[39;49m\u001b[43mdtype\u001b[49m\u001b[43m,\u001b[49m\u001b[43m \u001b[49m\u001b[43mcopy\u001b[49m\u001b[38;5;241;43m=\u001b[39;49m\u001b[43mcopy\u001b[49m\u001b[43m,\u001b[49m\u001b[43m \u001b[49m\u001b[43mna_value\u001b[49m\u001b[38;5;241;43m=\u001b[39;49m\u001b[43mna_value\u001b[49m\u001b[43m)\u001b[49m\n\u001b[0;32m   1994\u001b[0m \u001b[38;5;28;01mif\u001b[39;00m result\u001b[38;5;241m.\u001b[39mdtype \u001b[38;5;129;01mis\u001b[39;00m \u001b[38;5;129;01mnot\u001b[39;00m dtype:\n\u001b[0;32m   1995\u001b[0m     result \u001b[38;5;241m=\u001b[39m np\u001b[38;5;241m.\u001b[39masarray(result, dtype\u001b[38;5;241m=\u001b[39mdtype)\n",
      "File \u001b[1;32mc:\\Users\\santi\\anaconda3\\Lib\\site-packages\\pandas\\core\\internals\\managers.py:1694\u001b[0m, in \u001b[0;36mBlockManager.as_array\u001b[1;34m(self, dtype, copy, na_value)\u001b[0m\n\u001b[0;32m   1692\u001b[0m         arr\u001b[38;5;241m.\u001b[39mflags\u001b[38;5;241m.\u001b[39mwriteable \u001b[38;5;241m=\u001b[39m \u001b[38;5;28;01mFalse\u001b[39;00m\n\u001b[0;32m   1693\u001b[0m \u001b[38;5;28;01melse\u001b[39;00m:\n\u001b[1;32m-> 1694\u001b[0m     arr \u001b[38;5;241m=\u001b[39m \u001b[38;5;28;43mself\u001b[39;49m\u001b[38;5;241;43m.\u001b[39;49m\u001b[43m_interleave\u001b[49m\u001b[43m(\u001b[49m\u001b[43mdtype\u001b[49m\u001b[38;5;241;43m=\u001b[39;49m\u001b[43mdtype\u001b[49m\u001b[43m,\u001b[49m\u001b[43m \u001b[49m\u001b[43mna_value\u001b[49m\u001b[38;5;241;43m=\u001b[39;49m\u001b[43mna_value\u001b[49m\u001b[43m)\u001b[49m\n\u001b[0;32m   1695\u001b[0m     \u001b[38;5;66;03m# The underlying data was copied within _interleave, so no need\u001b[39;00m\n\u001b[0;32m   1696\u001b[0m     \u001b[38;5;66;03m# to further copy if copy=True or setting na_value\u001b[39;00m\n\u001b[0;32m   1698\u001b[0m \u001b[38;5;28;01mif\u001b[39;00m na_value \u001b[38;5;129;01mis\u001b[39;00m lib\u001b[38;5;241m.\u001b[39mno_default:\n",
      "File \u001b[1;32mc:\\Users\\santi\\anaconda3\\Lib\\site-packages\\pandas\\core\\internals\\managers.py:1753\u001b[0m, in \u001b[0;36mBlockManager._interleave\u001b[1;34m(self, dtype, na_value)\u001b[0m\n\u001b[0;32m   1751\u001b[0m     \u001b[38;5;28;01melse\u001b[39;00m:\n\u001b[0;32m   1752\u001b[0m         arr \u001b[38;5;241m=\u001b[39m blk\u001b[38;5;241m.\u001b[39mget_values(dtype)\n\u001b[1;32m-> 1753\u001b[0m     \u001b[43mresult\u001b[49m\u001b[43m[\u001b[49m\u001b[43mrl\u001b[49m\u001b[38;5;241;43m.\u001b[39;49m\u001b[43mindexer\u001b[49m\u001b[43m]\u001b[49m \u001b[38;5;241m=\u001b[39m arr\n\u001b[0;32m   1754\u001b[0m     itemmask[rl\u001b[38;5;241m.\u001b[39mindexer] \u001b[38;5;241m=\u001b[39m \u001b[38;5;241m1\u001b[39m\n\u001b[0;32m   1756\u001b[0m \u001b[38;5;28;01mif\u001b[39;00m \u001b[38;5;129;01mnot\u001b[39;00m itemmask\u001b[38;5;241m.\u001b[39mall():\n",
      "\u001b[1;31mValueError\u001b[0m: could not convert string to float: '#BOÞ!'"
     ]
    },
    {
     "data": {
      "text/plain": [
       "<Figure size 1200x1000 with 0 Axes>"
      ]
     },
     "metadata": {},
     "output_type": "display_data"
    }
   ],
   "source": [
    "plt.figure(figsize=(12, 10))\n",
    "sns.heatmap(datos[candidatas+['Duracion_Estancia_Min']].corr(), cmap=\"Blues\", vmin=0, vmax=1, annot = True)"
   ]
  },
  {
   "cell_type": "markdown",
   "metadata": {},
   "source": [
    "## 3. Preparación de datos"
   ]
  },
  {
   "cell_type": "markdown",
   "metadata": {},
   "source": [
    "### 3.1. Relacionado con la calidad de los datos"
   ]
  },
  {
   "cell_type": "code",
   "execution_count": 73,
   "metadata": {},
   "outputs": [],
   "source": [
    "# Se eliminan los registros totalmente duplicados\n",
    "datos = datos.dropna(subset=[\"Duracion_Estancia_Min\"]+candidatas)"
   ]
  },
  {
   "cell_type": "code",
   "execution_count": 74,
   "metadata": {},
   "outputs": [
    {
     "data": {
      "text/plain": [
       "(435, 23)"
      ]
     },
     "execution_count": 74,
     "metadata": {},
     "output_type": "execute_result"
    }
   ],
   "source": [
    "datos.shape"
   ]
  },
  {
   "cell_type": "code",
   "execution_count": 75,
   "metadata": {},
   "outputs": [
    {
     "data": {
      "text/plain": [
       "Duracion_Estancia_Min    0.0\n",
       "Sexo                     0.0\n",
       "Edad                     0.0\n",
       "Modo_Llegada             0.0\n",
       "Lesion                   0.0\n",
       "Estado_Mental            0.0\n",
       "Dolor                    0.0\n",
       "dolor_NRS                0.0\n",
       "SBP                      0.0\n",
       "DBP                      0.0\n",
       "HR                       0.0\n",
       "RR                       0.0\n",
       "BT                       0.0\n",
       "Saturacion               0.0\n",
       "KTAS_enfermera           0.0\n",
       "Disposicion              0.0\n",
       "KTAS_experto             0.0\n",
       "Duracion_KTAS_Min        0.0\n",
       "dtype: float64"
      ]
     },
     "execution_count": 75,
     "metadata": {},
     "output_type": "execute_result"
    }
   ],
   "source": [
    "datos[[\"Duracion_Estancia_Min\"]+candidatas].isnull().sum() / datos.shape[0]"
   ]
  },
  {
   "cell_type": "code",
   "execution_count": 76,
   "metadata": {},
   "outputs": [
    {
     "data": {
      "text/html": [
       "<div>\n",
       "<style scoped>\n",
       "    .dataframe tbody tr th:only-of-type {\n",
       "        vertical-align: middle;\n",
       "    }\n",
       "\n",
       "    .dataframe tbody tr th {\n",
       "        vertical-align: top;\n",
       "    }\n",
       "\n",
       "    .dataframe thead th {\n",
       "        text-align: right;\n",
       "    }\n",
       "</style>\n",
       "<table border=\"1\" class=\"dataframe\">\n",
       "  <thead>\n",
       "    <tr style=\"text-align: right;\">\n",
       "      <th></th>\n",
       "      <th>Grupo</th>\n",
       "      <th>Sexo</th>\n",
       "      <th>Edad</th>\n",
       "      <th>Modo_Llegada</th>\n",
       "      <th>Lesion</th>\n",
       "      <th>Queja_Principal</th>\n",
       "      <th>Estado_Mental</th>\n",
       "      <th>Dolor</th>\n",
       "      <th>dolor_NRS</th>\n",
       "      <th>SBP</th>\n",
       "      <th>...</th>\n",
       "      <th>BT</th>\n",
       "      <th>Saturacion</th>\n",
       "      <th>KTAS_enfermera</th>\n",
       "      <th>Diagnostico_En_Urgencias</th>\n",
       "      <th>Disposicion</th>\n",
       "      <th>KTAS_experto</th>\n",
       "      <th>Grupo_De_Error</th>\n",
       "      <th>Duracion_Estancia_Min</th>\n",
       "      <th>Duracion_KTAS_Min</th>\n",
       "      <th>Error_Triaje</th>\n",
       "    </tr>\n",
       "  </thead>\n",
       "  <tbody>\n",
       "    <tr>\n",
       "      <th>71</th>\n",
       "      <td>2</td>\n",
       "      <td>1</td>\n",
       "      <td>41</td>\n",
       "      <td>3</td>\n",
       "      <td>2</td>\n",
       "      <td>Open Wound</td>\n",
       "      <td>1</td>\n",
       "      <td>1</td>\n",
       "      <td>3</td>\n",
       "      <td>130.0</td>\n",
       "      <td>...</td>\n",
       "      <td>36.6</td>\n",
       "      <td>98.0</td>\n",
       "      <td>4</td>\n",
       "      <td>Open wound of head, part unspecified</td>\n",
       "      <td>1</td>\n",
       "      <td>4</td>\n",
       "      <td>0</td>\n",
       "      <td>125</td>\n",
       "      <td>4,00</td>\n",
       "      <td>0</td>\n",
       "    </tr>\n",
       "    <tr>\n",
       "      <th>121</th>\n",
       "      <td>2</td>\n",
       "      <td>2</td>\n",
       "      <td>41</td>\n",
       "      <td>3</td>\n",
       "      <td>1</td>\n",
       "      <td>leg pain</td>\n",
       "      <td>1</td>\n",
       "      <td>1</td>\n",
       "      <td>3</td>\n",
       "      <td>120.0</td>\n",
       "      <td>...</td>\n",
       "      <td>36.6</td>\n",
       "      <td>98.0</td>\n",
       "      <td>5</td>\n",
       "      <td>Complex regional pain syndrome type II</td>\n",
       "      <td>1</td>\n",
       "      <td>5</td>\n",
       "      <td>0</td>\n",
       "      <td>20</td>\n",
       "      <td>3,00</td>\n",
       "      <td>0</td>\n",
       "    </tr>\n",
       "    <tr>\n",
       "      <th>130</th>\n",
       "      <td>2</td>\n",
       "      <td>2</td>\n",
       "      <td>24</td>\n",
       "      <td>3</td>\n",
       "      <td>1</td>\n",
       "      <td>ant. chest pain</td>\n",
       "      <td>1</td>\n",
       "      <td>1</td>\n",
       "      <td>3</td>\n",
       "      <td>140.0</td>\n",
       "      <td>...</td>\n",
       "      <td>36.3</td>\n",
       "      <td>96.0</td>\n",
       "      <td>4</td>\n",
       "      <td>Ischaemic chest pain</td>\n",
       "      <td>1</td>\n",
       "      <td>4</td>\n",
       "      <td>0</td>\n",
       "      <td>526</td>\n",
       "      <td>2,00</td>\n",
       "      <td>0</td>\n",
       "    </tr>\n",
       "    <tr>\n",
       "      <th>214</th>\n",
       "      <td>2</td>\n",
       "      <td>1</td>\n",
       "      <td>75</td>\n",
       "      <td>3</td>\n",
       "      <td>1</td>\n",
       "      <td>ant. chest pain</td>\n",
       "      <td>1</td>\n",
       "      <td>1</td>\n",
       "      <td>6</td>\n",
       "      <td>110.0</td>\n",
       "      <td>...</td>\n",
       "      <td>36.1</td>\n",
       "      <td>98.0</td>\n",
       "      <td>2</td>\n",
       "      <td>Ischaemic chest pain</td>\n",
       "      <td>2</td>\n",
       "      <td>2</td>\n",
       "      <td>0</td>\n",
       "      <td>19523</td>\n",
       "      <td>2,00</td>\n",
       "      <td>0</td>\n",
       "    </tr>\n",
       "    <tr>\n",
       "      <th>270</th>\n",
       "      <td>2</td>\n",
       "      <td>1</td>\n",
       "      <td>72</td>\n",
       "      <td>3</td>\n",
       "      <td>1</td>\n",
       "      <td>diffuse chest discomfort</td>\n",
       "      <td>1</td>\n",
       "      <td>1</td>\n",
       "      <td>3</td>\n",
       "      <td>100.0</td>\n",
       "      <td>...</td>\n",
       "      <td>36.0</td>\n",
       "      <td>99.0</td>\n",
       "      <td>2</td>\n",
       "      <td>Pericardial effusion (noninflammatory)</td>\n",
       "      <td>5</td>\n",
       "      <td>2</td>\n",
       "      <td>0</td>\n",
       "      <td>483</td>\n",
       "      <td>4,00</td>\n",
       "      <td>0</td>\n",
       "    </tr>\n",
       "  </tbody>\n",
       "</table>\n",
       "<p>5 rows × 23 columns</p>\n",
       "</div>"
      ],
      "text/plain": [
       "     Grupo  Sexo  Edad  Modo_Llegada  Lesion           Queja_Principal  \\\n",
       "71       2     1    41             3       2                Open Wound   \n",
       "121      2     2    41             3       1                  leg pain   \n",
       "130      2     2    24             3       1           ant. chest pain   \n",
       "214      2     1    75             3       1           ant. chest pain   \n",
       "270      2     1    72             3       1  diffuse chest discomfort   \n",
       "\n",
       "     Estado_Mental  Dolor dolor_NRS    SBP  ...    BT  Saturacion  \\\n",
       "71               1      1         3  130.0  ...  36.6        98.0   \n",
       "121              1      1         3  120.0  ...  36.6        98.0   \n",
       "130              1      1         3  140.0  ...  36.3        96.0   \n",
       "214              1      1         6  110.0  ...  36.1        98.0   \n",
       "270              1      1         3  100.0  ...  36.0        99.0   \n",
       "\n",
       "     KTAS_enfermera                Diagnostico_En_Urgencias  Disposicion  \\\n",
       "71                4    Open wound of head, part unspecified            1   \n",
       "121               5  Complex regional pain syndrome type II            1   \n",
       "130               4                    Ischaemic chest pain            1   \n",
       "214               2                    Ischaemic chest pain            2   \n",
       "270               2  Pericardial effusion (noninflammatory)            5   \n",
       "\n",
       "     KTAS_experto Grupo_De_Error  Duracion_Estancia_Min  Duracion_KTAS_Min  \\\n",
       "71              4              0                    125               4,00   \n",
       "121             5              0                     20               3,00   \n",
       "130             4              0                    526               2,00   \n",
       "214             2              0                  19523               2,00   \n",
       "270             2              0                    483               4,00   \n",
       "\n",
       "     Error_Triaje  \n",
       "71              0  \n",
       "121             0  \n",
       "130             0  \n",
       "214             0  \n",
       "270             0  \n",
       "\n",
       "[5 rows x 23 columns]"
      ]
     },
     "execution_count": 76,
     "metadata": {},
     "output_type": "execute_result"
    }
   ],
   "source": [
    "datos.loc[datos.duplicated(subset=candidatas, keep=False)].head(5)"
   ]
  }
 ],
 "metadata": {
  "kernelspec": {
   "display_name": "base",
   "language": "python",
   "name": "python3"
  },
  "language_info": {
   "codemirror_mode": {
    "name": "ipython",
    "version": 3
   },
   "file_extension": ".py",
   "mimetype": "text/x-python",
   "name": "python",
   "nbconvert_exporter": "python",
   "pygments_lexer": "ipython3",
   "version": "3.12.3"
  }
 },
 "nbformat": 4,
 "nbformat_minor": 2
}
