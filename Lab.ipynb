{
 "cells": [
  {
   "cell_type": "markdown",
   "metadata": {},
   "source": [
    "## Los datos\n",
    "- Grupo\n",
    "- Sexo\n",
    "- Edad\n",
    "- Modo_Llegada\n",
    "- Lesión\n",
    "- Queja_Principal\n",
    "- Estado_Mental\n",
    "- Dolor\n",
    "- Dolor_NRS\n",
    "- SBP\n",
    "- DBP\n",
    "- HR\n",
    "- RR\n",
    "- BT\n",
    "- Saturación\n",
    "- KTAS_Enfermera\n",
    "- Diagnóstico_Urgencias\n",
    "- Disposición\n",
    "- KTAS_Experto\n",
    "- Grupo_Error\n",
    "- Duración_Estancia_Min\n",
    "- Duración_KTAS_Min\n",
    "- Error_Triaje\n"
   ]
  },
  {
   "cell_type": "code",
   "execution_count": 213,
   "metadata": {},
   "outputs": [],
   "source": [
    "import numpy as np\n",
    "import pandas as pd\n",
    "\n",
    "from joblib import dump, load\n",
    "\n",
    "import matplotlib.pyplot as plt\n",
    "import seaborn as sns\n",
    "\n",
    "from sklearn.model_selection import train_test_split\n",
    "from sklearn.linear_model import LinearRegression\n",
    "from sklearn.pipeline import Pipeline\n",
    "from sklearn.compose import ColumnTransformer\n",
    "from sklearn.preprocessing import StandardScaler\n",
    "from sklearn.preprocessing import PolynomialFeatures\n",
    "from sklearn.metrics import mean_absolute_error, mean_squared_error, r2_score\n",
    "\n",
    "import scipy.stats as stats"
   ]
  },
  {
   "cell_type": "markdown",
   "metadata": {},
   "source": [
    "## 1. Carga de los datos"
   ]
  },
  {
   "cell_type": "code",
   "execution_count": 214,
   "metadata": {},
   "outputs": [],
   "source": [
    "datos = pd.read_csv(\"./data/Regresión_train_data.csv\")"
   ]
  },
  {
   "cell_type": "code",
   "execution_count": 215,
   "metadata": {},
   "outputs": [
    {
     "data": {
      "text/plain": [
       "(1000, 23)"
      ]
     },
     "execution_count": 215,
     "metadata": {},
     "output_type": "execute_result"
    }
   ],
   "source": [
    "datos.shape"
   ]
  },
  {
   "cell_type": "code",
   "execution_count": 216,
   "metadata": {},
   "outputs": [
    {
     "data": {
      "text/plain": [
       "Grupo                         int64\n",
       "Sexo                          int64\n",
       "Edad                          int64\n",
       "Modo_Llegada                  int64\n",
       "Lesion                        int64\n",
       "Queja_Principal              object\n",
       "Estado_Mental                 int64\n",
       "Dolor                         int64\n",
       "dolor_NRS                    object\n",
       "SBP                         float64\n",
       "DBP                         float64\n",
       "HR                          float64\n",
       "RR                          float64\n",
       "BT                          float64\n",
       "Saturacion                  float64\n",
       "KTAS_enfermera                int64\n",
       "Diagnostico_En_Urgencias     object\n",
       "Disposicion                   int64\n",
       "KTAS_experto                  int64\n",
       "Grupo_De_Error                int64\n",
       "Duracion_Estancia_Min         int64\n",
       "Duracion_KTAS_Min            object\n",
       "Error_Triaje                  int64\n",
       "dtype: object"
      ]
     },
     "execution_count": 216,
     "metadata": {},
     "output_type": "execute_result"
    }
   ],
   "source": [
    "datos.dtypes"
   ]
  },
  {
   "cell_type": "code",
   "execution_count": 217,
   "metadata": {},
   "outputs": [
    {
     "data": {
      "text/html": [
       "<div>\n",
       "<style scoped>\n",
       "    .dataframe tbody tr th:only-of-type {\n",
       "        vertical-align: middle;\n",
       "    }\n",
       "\n",
       "    .dataframe tbody tr th {\n",
       "        vertical-align: top;\n",
       "    }\n",
       "\n",
       "    .dataframe thead th {\n",
       "        text-align: right;\n",
       "    }\n",
       "</style>\n",
       "<table border=\"1\" class=\"dataframe\">\n",
       "  <thead>\n",
       "    <tr style=\"text-align: right;\">\n",
       "      <th></th>\n",
       "      <th>Grupo</th>\n",
       "      <th>Sexo</th>\n",
       "      <th>Edad</th>\n",
       "      <th>Modo_Llegada</th>\n",
       "      <th>Lesion</th>\n",
       "      <th>Queja_Principal</th>\n",
       "      <th>Estado_Mental</th>\n",
       "      <th>Dolor</th>\n",
       "      <th>dolor_NRS</th>\n",
       "      <th>SBP</th>\n",
       "      <th>...</th>\n",
       "      <th>BT</th>\n",
       "      <th>Saturacion</th>\n",
       "      <th>KTAS_enfermera</th>\n",
       "      <th>Diagnostico_En_Urgencias</th>\n",
       "      <th>Disposicion</th>\n",
       "      <th>KTAS_experto</th>\n",
       "      <th>Grupo_De_Error</th>\n",
       "      <th>Duracion_Estancia_Min</th>\n",
       "      <th>Duracion_KTAS_Min</th>\n",
       "      <th>Error_Triaje</th>\n",
       "    </tr>\n",
       "  </thead>\n",
       "  <tbody>\n",
       "    <tr>\n",
       "      <th>993</th>\n",
       "      <td>1</td>\n",
       "      <td>1</td>\n",
       "      <td>74</td>\n",
       "      <td>3</td>\n",
       "      <td>1</td>\n",
       "      <td>abd pain</td>\n",
       "      <td>1</td>\n",
       "      <td>1</td>\n",
       "      <td>3</td>\n",
       "      <td>189.0</td>\n",
       "      <td>...</td>\n",
       "      <td>36.3</td>\n",
       "      <td>NaN</td>\n",
       "      <td>4</td>\n",
       "      <td>Symptomatic gallbladder stone without obstruction</td>\n",
       "      <td>2</td>\n",
       "      <td>4</td>\n",
       "      <td>0</td>\n",
       "      <td>561</td>\n",
       "      <td>4,82</td>\n",
       "      <td>0</td>\n",
       "    </tr>\n",
       "    <tr>\n",
       "      <th>205</th>\n",
       "      <td>1</td>\n",
       "      <td>1</td>\n",
       "      <td>59</td>\n",
       "      <td>3</td>\n",
       "      <td>1</td>\n",
       "      <td>LLQ pain</td>\n",
       "      <td>1</td>\n",
       "      <td>1</td>\n",
       "      <td>3</td>\n",
       "      <td>142.0</td>\n",
       "      <td>...</td>\n",
       "      <td>36.8</td>\n",
       "      <td>NaN</td>\n",
       "      <td>3</td>\n",
       "      <td>Constipation</td>\n",
       "      <td>1</td>\n",
       "      <td>3</td>\n",
       "      <td>0</td>\n",
       "      <td>76</td>\n",
       "      <td>7,00</td>\n",
       "      <td>0</td>\n",
       "    </tr>\n",
       "    <tr>\n",
       "      <th>256</th>\n",
       "      <td>2</td>\n",
       "      <td>2</td>\n",
       "      <td>86</td>\n",
       "      <td>4</td>\n",
       "      <td>1</td>\n",
       "      <td>ant. chest pain</td>\n",
       "      <td>1</td>\n",
       "      <td>1</td>\n",
       "      <td>3</td>\n",
       "      <td>110.0</td>\n",
       "      <td>...</td>\n",
       "      <td>36.3</td>\n",
       "      <td>90.0</td>\n",
       "      <td>2</td>\n",
       "      <td>Myocardial infarction with non-ST elevation</td>\n",
       "      <td>2</td>\n",
       "      <td>2</td>\n",
       "      <td>0</td>\n",
       "      <td>11177</td>\n",
       "      <td>4,00</td>\n",
       "      <td>0</td>\n",
       "    </tr>\n",
       "    <tr>\n",
       "      <th>140</th>\n",
       "      <td>1</td>\n",
       "      <td>1</td>\n",
       "      <td>83</td>\n",
       "      <td>2</td>\n",
       "      <td>1</td>\n",
       "      <td>dyspnea</td>\n",
       "      <td>1</td>\n",
       "      <td>0</td>\n",
       "      <td>#BOÞ!</td>\n",
       "      <td>164.0</td>\n",
       "      <td>...</td>\n",
       "      <td>36.7</td>\n",
       "      <td>NaN</td>\n",
       "      <td>3</td>\n",
       "      <td>Dyspnea</td>\n",
       "      <td>2</td>\n",
       "      <td>3</td>\n",
       "      <td>0</td>\n",
       "      <td>286</td>\n",
       "      <td>5,82</td>\n",
       "      <td>0</td>\n",
       "    </tr>\n",
       "    <tr>\n",
       "      <th>95</th>\n",
       "      <td>2</td>\n",
       "      <td>1</td>\n",
       "      <td>53</td>\n",
       "      <td>3</td>\n",
       "      <td>1</td>\n",
       "      <td>epigastric pain</td>\n",
       "      <td>1</td>\n",
       "      <td>1</td>\n",
       "      <td>3</td>\n",
       "      <td>120.0</td>\n",
       "      <td>...</td>\n",
       "      <td>36.2</td>\n",
       "      <td>98.0</td>\n",
       "      <td>3</td>\n",
       "      <td>Infectious or septic colitis</td>\n",
       "      <td>1</td>\n",
       "      <td>4</td>\n",
       "      <td>4</td>\n",
       "      <td>8067</td>\n",
       "      <td>5,00</td>\n",
       "      <td>1</td>\n",
       "    </tr>\n",
       "  </tbody>\n",
       "</table>\n",
       "<p>5 rows × 23 columns</p>\n",
       "</div>"
      ],
      "text/plain": [
       "     Grupo  Sexo  Edad  Modo_Llegada  Lesion  Queja_Principal  Estado_Mental  \\\n",
       "993      1     1    74             3       1         abd pain              1   \n",
       "205      1     1    59             3       1         LLQ pain              1   \n",
       "256      2     2    86             4       1  ant. chest pain              1   \n",
       "140      1     1    83             2       1          dyspnea              1   \n",
       "95       2     1    53             3       1  epigastric pain              1   \n",
       "\n",
       "     Dolor dolor_NRS    SBP  ...    BT  Saturacion  KTAS_enfermera  \\\n",
       "993      1         3  189.0  ...  36.3         NaN               4   \n",
       "205      1         3  142.0  ...  36.8         NaN               3   \n",
       "256      1         3  110.0  ...  36.3        90.0               2   \n",
       "140      0     #BOÞ!  164.0  ...  36.7         NaN               3   \n",
       "95       1         3  120.0  ...  36.2        98.0               3   \n",
       "\n",
       "                              Diagnostico_En_Urgencias  Disposicion  \\\n",
       "993  Symptomatic gallbladder stone without obstruction            2   \n",
       "205                                       Constipation            1   \n",
       "256        Myocardial infarction with non-ST elevation            2   \n",
       "140                                            Dyspnea            2   \n",
       "95                        Infectious or septic colitis            1   \n",
       "\n",
       "     KTAS_experto Grupo_De_Error  Duracion_Estancia_Min  Duracion_KTAS_Min  \\\n",
       "993             4              0                    561               4,82   \n",
       "205             3              0                     76               7,00   \n",
       "256             2              0                  11177               4,00   \n",
       "140             3              0                    286               5,82   \n",
       "95              4              4                   8067               5,00   \n",
       "\n",
       "     Error_Triaje  \n",
       "993             0  \n",
       "205             0  \n",
       "256             0  \n",
       "140             0  \n",
       "95              1  \n",
       "\n",
       "[5 rows x 23 columns]"
      ]
     },
     "execution_count": 217,
     "metadata": {},
     "output_type": "execute_result"
    }
   ],
   "source": [
    "datos.sample(5)"
   ]
  },
  {
   "cell_type": "markdown",
   "metadata": {},
   "source": [
    "## 2. Entendimiento de los datos"
   ]
  },
  {
   "cell_type": "markdown",
   "metadata": {},
   "source": [
    "Variables numericas candidatas a utilizar"
   ]
  },
  {
   "cell_type": "code",
   "execution_count": 218,
   "metadata": {},
   "outputs": [],
   "source": [
    "candidatas = [\"Sexo\",\"Edad\",\"Modo_Llegada\",\"Lesion\",\"Estado_Mental\",\"Dolor\",\"KTAS_enfermera\",\"Disposicion\",\"KTAS_experto\",\"Duracion_KTAS_Min\"]"
   ]
  },
  {
   "cell_type": "code",
   "execution_count": 219,
   "metadata": {},
   "outputs": [
    {
     "data": {
      "text/html": [
       "<div>\n",
       "<style scoped>\n",
       "    .dataframe tbody tr th:only-of-type {\n",
       "        vertical-align: middle;\n",
       "    }\n",
       "\n",
       "    .dataframe tbody tr th {\n",
       "        vertical-align: top;\n",
       "    }\n",
       "\n",
       "    .dataframe thead th {\n",
       "        text-align: right;\n",
       "    }\n",
       "</style>\n",
       "<table border=\"1\" class=\"dataframe\">\n",
       "  <thead>\n",
       "    <tr style=\"text-align: right;\">\n",
       "      <th></th>\n",
       "      <th>Grupo</th>\n",
       "      <th>Sexo</th>\n",
       "      <th>Edad</th>\n",
       "      <th>Modo_Llegada</th>\n",
       "      <th>Lesion</th>\n",
       "      <th>Estado_Mental</th>\n",
       "      <th>Dolor</th>\n",
       "      <th>SBP</th>\n",
       "      <th>DBP</th>\n",
       "      <th>HR</th>\n",
       "      <th>RR</th>\n",
       "      <th>BT</th>\n",
       "      <th>Saturacion</th>\n",
       "      <th>KTAS_enfermera</th>\n",
       "      <th>Disposicion</th>\n",
       "      <th>KTAS_experto</th>\n",
       "      <th>Grupo_De_Error</th>\n",
       "      <th>Duracion_Estancia_Min</th>\n",
       "      <th>Error_Triaje</th>\n",
       "    </tr>\n",
       "  </thead>\n",
       "  <tbody>\n",
       "    <tr>\n",
       "      <th>count</th>\n",
       "      <td>1000.000000</td>\n",
       "      <td>1000.000000</td>\n",
       "      <td>1000.000000</td>\n",
       "      <td>1000.000000</td>\n",
       "      <td>1000.0000</td>\n",
       "      <td>1000.000000</td>\n",
       "      <td>1000.000000</td>\n",
       "      <td>983.000000</td>\n",
       "      <td>979.000000</td>\n",
       "      <td>988.000000</td>\n",
       "      <td>985.000000</td>\n",
       "      <td>989.000000</td>\n",
       "      <td>444.000000</td>\n",
       "      <td>1000.000000</td>\n",
       "      <td>1000.000000</td>\n",
       "      <td>1000.000000</td>\n",
       "      <td>1000.000000</td>\n",
       "      <td>1000.000000</td>\n",
       "      <td>1000.000000</td>\n",
       "    </tr>\n",
       "    <tr>\n",
       "      <th>mean</th>\n",
       "      <td>1.450000</td>\n",
       "      <td>1.514000</td>\n",
       "      <td>53.892000</td>\n",
       "      <td>2.811000</td>\n",
       "      <td>1.2000</td>\n",
       "      <td>1.103000</td>\n",
       "      <td>0.562000</td>\n",
       "      <td>133.485249</td>\n",
       "      <td>79.566905</td>\n",
       "      <td>84.400810</td>\n",
       "      <td>19.450761</td>\n",
       "      <td>36.562993</td>\n",
       "      <td>97.047297</td>\n",
       "      <td>3.328000</td>\n",
       "      <td>1.610000</td>\n",
       "      <td>3.260000</td>\n",
       "      <td>0.569000</td>\n",
       "      <td>12792.480000</td>\n",
       "      <td>0.253000</td>\n",
       "    </tr>\n",
       "    <tr>\n",
       "      <th>std</th>\n",
       "      <td>0.497743</td>\n",
       "      <td>0.500054</td>\n",
       "      <td>19.826483</td>\n",
       "      <td>0.796186</td>\n",
       "      <td>0.4002</td>\n",
       "      <td>0.431946</td>\n",
       "      <td>0.496389</td>\n",
       "      <td>27.156136</td>\n",
       "      <td>15.174593</td>\n",
       "      <td>16.297428</td>\n",
       "      <td>2.069882</td>\n",
       "      <td>0.519699</td>\n",
       "      <td>4.761112</td>\n",
       "      <td>0.862067</td>\n",
       "      <td>1.161572</td>\n",
       "      <td>0.865534</td>\n",
       "      <td>1.587375</td>\n",
       "      <td>87721.151446</td>\n",
       "      <td>0.630387</td>\n",
       "    </tr>\n",
       "    <tr>\n",
       "      <th>min</th>\n",
       "      <td>1.000000</td>\n",
       "      <td>1.000000</td>\n",
       "      <td>16.000000</td>\n",
       "      <td>1.000000</td>\n",
       "      <td>1.0000</td>\n",
       "      <td>1.000000</td>\n",
       "      <td>0.000000</td>\n",
       "      <td>50.000000</td>\n",
       "      <td>31.000000</td>\n",
       "      <td>32.000000</td>\n",
       "      <td>14.000000</td>\n",
       "      <td>35.000000</td>\n",
       "      <td>20.000000</td>\n",
       "      <td>1.000000</td>\n",
       "      <td>1.000000</td>\n",
       "      <td>1.000000</td>\n",
       "      <td>0.000000</td>\n",
       "      <td>0.000000</td>\n",
       "      <td>0.000000</td>\n",
       "    </tr>\n",
       "    <tr>\n",
       "      <th>25%</th>\n",
       "      <td>1.000000</td>\n",
       "      <td>1.000000</td>\n",
       "      <td>36.000000</td>\n",
       "      <td>2.000000</td>\n",
       "      <td>1.0000</td>\n",
       "      <td>1.000000</td>\n",
       "      <td>0.000000</td>\n",
       "      <td>114.000000</td>\n",
       "      <td>70.000000</td>\n",
       "      <td>73.000000</td>\n",
       "      <td>18.000000</td>\n",
       "      <td>36.200000</td>\n",
       "      <td>97.000000</td>\n",
       "      <td>3.000000</td>\n",
       "      <td>1.000000</td>\n",
       "      <td>3.000000</td>\n",
       "      <td>0.000000</td>\n",
       "      <td>132.750000</td>\n",
       "      <td>0.000000</td>\n",
       "    </tr>\n",
       "    <tr>\n",
       "      <th>50%</th>\n",
       "      <td>1.000000</td>\n",
       "      <td>2.000000</td>\n",
       "      <td>56.000000</td>\n",
       "      <td>3.000000</td>\n",
       "      <td>1.0000</td>\n",
       "      <td>1.000000</td>\n",
       "      <td>1.000000</td>\n",
       "      <td>130.000000</td>\n",
       "      <td>80.000000</td>\n",
       "      <td>82.000000</td>\n",
       "      <td>20.000000</td>\n",
       "      <td>36.500000</td>\n",
       "      <td>98.000000</td>\n",
       "      <td>3.000000</td>\n",
       "      <td>1.000000</td>\n",
       "      <td>3.000000</td>\n",
       "      <td>0.000000</td>\n",
       "      <td>270.500000</td>\n",
       "      <td>0.000000</td>\n",
       "    </tr>\n",
       "    <tr>\n",
       "      <th>75%</th>\n",
       "      <td>2.000000</td>\n",
       "      <td>2.000000</td>\n",
       "      <td>70.250000</td>\n",
       "      <td>3.000000</td>\n",
       "      <td>1.0000</td>\n",
       "      <td>1.000000</td>\n",
       "      <td>1.000000</td>\n",
       "      <td>150.000000</td>\n",
       "      <td>90.000000</td>\n",
       "      <td>96.000000</td>\n",
       "      <td>20.000000</td>\n",
       "      <td>36.800000</td>\n",
       "      <td>99.000000</td>\n",
       "      <td>4.000000</td>\n",
       "      <td>2.000000</td>\n",
       "      <td>4.000000</td>\n",
       "      <td>0.000000</td>\n",
       "      <td>620.000000</td>\n",
       "      <td>0.000000</td>\n",
       "    </tr>\n",
       "    <tr>\n",
       "      <th>max</th>\n",
       "      <td>2.000000</td>\n",
       "      <td>2.000000</td>\n",
       "      <td>94.000000</td>\n",
       "      <td>7.000000</td>\n",
       "      <td>2.0000</td>\n",
       "      <td>4.000000</td>\n",
       "      <td>1.000000</td>\n",
       "      <td>275.000000</td>\n",
       "      <td>160.000000</td>\n",
       "      <td>148.000000</td>\n",
       "      <td>30.000000</td>\n",
       "      <td>39.800000</td>\n",
       "      <td>100.000000</td>\n",
       "      <td>5.000000</td>\n",
       "      <td>7.000000</td>\n",
       "      <td>5.000000</td>\n",
       "      <td>9.000000</td>\n",
       "      <td>709510.000000</td>\n",
       "      <td>2.000000</td>\n",
       "    </tr>\n",
       "  </tbody>\n",
       "</table>\n",
       "</div>"
      ],
      "text/plain": [
       "             Grupo         Sexo         Edad  Modo_Llegada     Lesion  \\\n",
       "count  1000.000000  1000.000000  1000.000000   1000.000000  1000.0000   \n",
       "mean      1.450000     1.514000    53.892000      2.811000     1.2000   \n",
       "std       0.497743     0.500054    19.826483      0.796186     0.4002   \n",
       "min       1.000000     1.000000    16.000000      1.000000     1.0000   \n",
       "25%       1.000000     1.000000    36.000000      2.000000     1.0000   \n",
       "50%       1.000000     2.000000    56.000000      3.000000     1.0000   \n",
       "75%       2.000000     2.000000    70.250000      3.000000     1.0000   \n",
       "max       2.000000     2.000000    94.000000      7.000000     2.0000   \n",
       "\n",
       "       Estado_Mental        Dolor         SBP         DBP          HR  \\\n",
       "count    1000.000000  1000.000000  983.000000  979.000000  988.000000   \n",
       "mean        1.103000     0.562000  133.485249   79.566905   84.400810   \n",
       "std         0.431946     0.496389   27.156136   15.174593   16.297428   \n",
       "min         1.000000     0.000000   50.000000   31.000000   32.000000   \n",
       "25%         1.000000     0.000000  114.000000   70.000000   73.000000   \n",
       "50%         1.000000     1.000000  130.000000   80.000000   82.000000   \n",
       "75%         1.000000     1.000000  150.000000   90.000000   96.000000   \n",
       "max         4.000000     1.000000  275.000000  160.000000  148.000000   \n",
       "\n",
       "               RR          BT  Saturacion  KTAS_enfermera  Disposicion  \\\n",
       "count  985.000000  989.000000  444.000000     1000.000000  1000.000000   \n",
       "mean    19.450761   36.562993   97.047297        3.328000     1.610000   \n",
       "std      2.069882    0.519699    4.761112        0.862067     1.161572   \n",
       "min     14.000000   35.000000   20.000000        1.000000     1.000000   \n",
       "25%     18.000000   36.200000   97.000000        3.000000     1.000000   \n",
       "50%     20.000000   36.500000   98.000000        3.000000     1.000000   \n",
       "75%     20.000000   36.800000   99.000000        4.000000     2.000000   \n",
       "max     30.000000   39.800000  100.000000        5.000000     7.000000   \n",
       "\n",
       "       KTAS_experto  Grupo_De_Error  Duracion_Estancia_Min  Error_Triaje  \n",
       "count   1000.000000     1000.000000            1000.000000   1000.000000  \n",
       "mean       3.260000        0.569000           12792.480000      0.253000  \n",
       "std        0.865534        1.587375           87721.151446      0.630387  \n",
       "min        1.000000        0.000000               0.000000      0.000000  \n",
       "25%        3.000000        0.000000             132.750000      0.000000  \n",
       "50%        3.000000        0.000000             270.500000      0.000000  \n",
       "75%        4.000000        0.000000             620.000000      0.000000  \n",
       "max        5.000000        9.000000          709510.000000      2.000000  "
      ]
     },
     "execution_count": 219,
     "metadata": {},
     "output_type": "execute_result"
    }
   ],
   "source": [
    "datos.describe()"
   ]
  },
  {
   "cell_type": "code",
   "execution_count": 220,
   "metadata": {},
   "outputs": [
    {
     "data": {
      "text/plain": [
       "Sexo\n",
       "2    514\n",
       "1    486\n",
       "Name: count, dtype: int64"
      ]
     },
     "execution_count": 220,
     "metadata": {},
     "output_type": "execute_result"
    }
   ],
   "source": [
    "datos[\"Sexo\"].value_counts()\n"
   ]
  },
  {
   "cell_type": "code",
   "execution_count": 221,
   "metadata": {},
   "outputs": [
    {
     "data": {
      "text/plain": [
       "dolor_NRS\n",
       "#BOÞ!    440\n",
       "3        209\n",
       "4        111\n",
       "5        109\n",
       "6         59\n",
       "2         31\n",
       "7         27\n",
       "8          8\n",
       "10         3\n",
       "1          2\n",
       "9          1\n",
       "Name: count, dtype: int64"
      ]
     },
     "execution_count": 221,
     "metadata": {},
     "output_type": "execute_result"
    }
   ],
   "source": [
    "datos[\"dolor_NRS\"].value_counts()"
   ]
  },
  {
   "cell_type": "code",
   "execution_count": 222,
   "metadata": {},
   "outputs": [
    {
     "data": {
      "text/plain": [
       "Error_Triaje\n",
       "0    851\n",
       "2    104\n",
       "1     45\n",
       "Name: count, dtype: int64"
      ]
     },
     "execution_count": 222,
     "metadata": {},
     "output_type": "execute_result"
    }
   ],
   "source": [
    "datos[\"Error_Triaje\"].value_counts()"
   ]
  },
  {
   "cell_type": "code",
   "execution_count": 223,
   "metadata": {},
   "outputs": [
    {
     "data": {
      "text/plain": [
       "Grupo_De_Error\n",
       "0    851\n",
       "1     16\n",
       "2     39\n",
       "3      6\n",
       "4     50\n",
       "5     11\n",
       "6      6\n",
       "7      7\n",
       "8      9\n",
       "9      5\n",
       "Name: count, dtype: int64"
      ]
     },
     "execution_count": 223,
     "metadata": {},
     "output_type": "execute_result"
    }
   ],
   "source": [
    "datos[\"Grupo_De_Error\"].value_counts().sort_index()\n"
   ]
  },
  {
   "cell_type": "code",
   "execution_count": 224,
   "metadata": {},
   "outputs": [
    {
     "data": {
      "text/plain": [
       "<matplotlib.collections.PathCollection at 0x2187ac064b0>"
      ]
     },
     "execution_count": 224,
     "metadata": {},
     "output_type": "execute_result"
    },
    {
     "data": {
      "image/png": "[encoded data removed]",
      "text/plain": [
       "<Figure size 640x480 with 1 Axes>"
      ]
     },
     "metadata": {},
     "output_type": "display_data"
    }
   ],
   "source": [
    "datos[[\"KTAS_enfermera\",\"KTAS_experto\",\"Error_Triaje\"]]\n",
    "a = datos[datos[\"KTAS_enfermera\"]!=datos[\"KTAS_experto\"]][[\"KTAS_enfermera\",\"KTAS_experto\",\"Error_Triaje\"]]\n",
    "a[a[\"Error_Triaje\"]==1]\n",
    "plt.scatter(datos[\"Error_Triaje\"], datos[\"KTAS_enfermera\"]/datos[\"KTAS_experto\"])\n"
   ]
  },
  {
   "cell_type": "markdown",
   "metadata": {},
   "source": [
    "Análisis de completitud"
   ]
  },
  {
   "cell_type": "code",
   "execution_count": 225,
   "metadata": {},
   "outputs": [
    {
     "data": {
      "text/plain": [
       "Grupo                       0.000\n",
       "Sexo                        0.000\n",
       "Edad                        0.000\n",
       "Modo_Llegada                0.000\n",
       "Lesion                      0.000\n",
       "Queja_Principal             0.000\n",
       "Estado_Mental               0.000\n",
       "Dolor                       0.000\n",
       "dolor_NRS                   0.000\n",
       "SBP                         0.017\n",
       "DBP                         0.021\n",
       "HR                          0.012\n",
       "RR                          0.015\n",
       "BT                          0.011\n",
       "Saturacion                  0.556\n",
       "KTAS_enfermera              0.000\n",
       "Diagnostico_En_Urgencias    0.001\n",
       "Disposicion                 0.000\n",
       "KTAS_experto                0.000\n",
       "Grupo_De_Error              0.000\n",
       "Duracion_Estancia_Min       0.000\n",
       "Duracion_KTAS_Min           0.000\n",
       "Error_Triaje                0.000\n",
       "dtype: float64"
      ]
     },
     "execution_count": 225,
     "metadata": {},
     "output_type": "execute_result"
    }
   ],
   "source": [
    "datos.isnull().sum() / datos.shape[0]"
   ]
  },
  {
   "cell_type": "markdown",
   "metadata": {},
   "source": [
    "### 2.1. Búsqueda de relaciones con la variable objetivo\n",
    "\n",
    "Si se logra visualizar o cuantificar altas correlaciones entre las variables de entrada y la variable objetivo, se podrán soportar las decisiones del experto con base en la evidencia."
   ]
  },
  {
   "cell_type": "code",
   "execution_count": 226,
   "metadata": {},
   "outputs": [
    {
     "data": {
      "text/plain": [
       "<seaborn.axisgrid.PairGrid at 0x2187cdc42c0>"
      ]
     },
     "execution_count": 226,
     "metadata": {},
     "output_type": "execute_result"
    },
    {
     "data": {
      "image/png": "[encoded data removed]",
      "text/plain": [
       "<Figure size 3000x300 with 10 Axes>"
      ]
     },
     "metadata": {},
     "output_type": "display_data"
    }
   ],
   "source": [
    "datos[\"Duracion_KTAS_Min\"] = datos[\"Duracion_KTAS_Min\"].str.replace(',', '.').astype('float64')\n",
    "sns.pairplot(datos.sample(frac=0.2), height=3, y_vars=\"Duracion_Estancia_Min\", x_vars=candidatas, kind=\"scatter\")"
   ]
  },
  {
   "cell_type": "markdown",
   "metadata": {},
   "source": [
    "### 2.2. Búsqueda de relaciones entre las variables de entrada\n",
    "\n",
    "**Importante:** La regresión lineal asume que sus variables de entrada no se encuentran altamente correlacionados."
   ]
  },
  {
   "cell_type": "code",
   "execution_count": 227,
   "metadata": {},
   "outputs": [
    {
     "data": {
      "text/plain": [
       "<Axes: >"
      ]
     },
     "execution_count": 227,
     "metadata": {},
     "output_type": "execute_result"
    },
    {
     "data": {
      "image/png": "[encoded data removed]",
      "text/plain": [
       "<Figure size 1200x1000 with 2 Axes>"
      ]
     },
     "metadata": {},
     "output_type": "display_data"
    }
   ],
   "source": [
    "plt.figure(figsize=(12, 10))\n",
    "sns.heatmap(datos[candidatas+['Duracion_Estancia_Min']].corr(), cmap=\"Blues\", vmin=0, vmax=1, annot = True)"
   ]
  },
  {
   "cell_type": "markdown",
   "metadata": {},
   "source": [
    "## 3. Preparación de datos"
   ]
  },
  {
   "cell_type": "markdown",
   "metadata": {},
   "source": [
    "### 3.1. Relacionado con la calidad de los datos"
   ]
  },
  {
   "cell_type": "code",
   "execution_count": 228,
   "metadata": {},
   "outputs": [],
   "source": [
    "# Se eliminan los registros totalmente duplicados\n",
    "datos = datos.dropna(subset=[\"Duracion_Estancia_Min\"]+candidatas)"
   ]
  },
  {
   "cell_type": "code",
   "execution_count": 229,
   "metadata": {},
   "outputs": [
    {
     "data": {
      "text/plain": [
       "1000"
      ]
     },
     "execution_count": 229,
     "metadata": {},
     "output_type": "execute_result"
    }
   ],
   "source": [
    "datos.shape\n",
    "total_rows = datos.shape[0]\n",
    "total_rows"
   ]
  },
  {
   "cell_type": "code",
   "execution_count": 230,
   "metadata": {},
   "outputs": [
    {
     "data": {
      "text/plain": [
       "Duracion_Estancia_Min    0.0\n",
       "Sexo                     0.0\n",
       "Edad                     0.0\n",
       "Modo_Llegada             0.0\n",
       "Lesion                   0.0\n",
       "Estado_Mental            0.0\n",
       "Dolor                    0.0\n",
       "KTAS_enfermera           0.0\n",
       "Disposicion              0.0\n",
       "KTAS_experto             0.0\n",
       "Duracion_KTAS_Min        0.0\n",
       "dtype: float64"
      ]
     },
     "execution_count": 230,
     "metadata": {},
     "output_type": "execute_result"
    }
   ],
   "source": [
    "datos[[\"Duracion_Estancia_Min\"]+candidatas].isnull().sum() / datos.shape[0]"
   ]
  },
  {
   "cell_type": "code",
   "execution_count": 231,
   "metadata": {},
   "outputs": [
    {
     "data": {
      "text/plain": [
       "Duracion_Estancia_Min    0.0\n",
       "Sexo                     0.0\n",
       "Edad                     0.0\n",
       "Modo_Llegada             0.0\n",
       "Lesion                   0.0\n",
       "Estado_Mental            0.0\n",
       "Dolor                    0.0\n",
       "KTAS_enfermera           0.0\n",
       "Disposicion              0.0\n",
       "KTAS_experto             0.0\n",
       "Duracion_KTAS_Min        0.0\n",
       "dtype: float64"
      ]
     },
     "execution_count": 231,
     "metadata": {},
     "output_type": "execute_result"
    }
   ],
   "source": [
    "datos[datos[[\"Duracion_Estancia_Min\"]+candidatas] == '#BOÞ!'][[\"Duracion_Estancia_Min\"]+candidatas].count()/ datos.shape[0]"
   ]
  },
  {
   "cell_type": "code",
   "execution_count": 232,
   "metadata": {},
   "outputs": [
    {
     "data": {
      "text/html": [
       "<div>\n",
       "<style scoped>\n",
       "    .dataframe tbody tr th:only-of-type {\n",
       "        vertical-align: middle;\n",
       "    }\n",
       "\n",
       "    .dataframe tbody tr th {\n",
       "        vertical-align: top;\n",
       "    }\n",
       "\n",
       "    .dataframe thead th {\n",
       "        text-align: right;\n",
       "    }\n",
       "</style>\n",
       "<table border=\"1\" class=\"dataframe\">\n",
       "  <thead>\n",
       "    <tr style=\"text-align: right;\">\n",
       "      <th></th>\n",
       "      <th>Grupo</th>\n",
       "      <th>Sexo</th>\n",
       "      <th>Edad</th>\n",
       "      <th>Modo_Llegada</th>\n",
       "      <th>Lesion</th>\n",
       "      <th>Queja_Principal</th>\n",
       "      <th>Estado_Mental</th>\n",
       "      <th>Dolor</th>\n",
       "      <th>dolor_NRS</th>\n",
       "      <th>SBP</th>\n",
       "      <th>...</th>\n",
       "      <th>BT</th>\n",
       "      <th>Saturacion</th>\n",
       "      <th>KTAS_enfermera</th>\n",
       "      <th>Diagnostico_En_Urgencias</th>\n",
       "      <th>Disposicion</th>\n",
       "      <th>KTAS_experto</th>\n",
       "      <th>Grupo_De_Error</th>\n",
       "      <th>Duracion_Estancia_Min</th>\n",
       "      <th>Duracion_KTAS_Min</th>\n",
       "      <th>Error_Triaje</th>\n",
       "    </tr>\n",
       "  </thead>\n",
       "  <tbody>\n",
       "    <tr>\n",
       "      <th>20</th>\n",
       "      <td>1</td>\n",
       "      <td>2</td>\n",
       "      <td>78</td>\n",
       "      <td>3</td>\n",
       "      <td>1</td>\n",
       "      <td>dizziness</td>\n",
       "      <td>1</td>\n",
       "      <td>0</td>\n",
       "      <td>#BOÞ!</td>\n",
       "      <td>132.0</td>\n",
       "      <td>...</td>\n",
       "      <td>36.8</td>\n",
       "      <td>NaN</td>\n",
       "      <td>3</td>\n",
       "      <td>Dizziness</td>\n",
       "      <td>1</td>\n",
       "      <td>3</td>\n",
       "      <td>0</td>\n",
       "      <td>129</td>\n",
       "      <td>5.38</td>\n",
       "      <td>0</td>\n",
       "    </tr>\n",
       "    <tr>\n",
       "      <th>55</th>\n",
       "      <td>2</td>\n",
       "      <td>2</td>\n",
       "      <td>40</td>\n",
       "      <td>3</td>\n",
       "      <td>1</td>\n",
       "      <td>Leg pain, NOS</td>\n",
       "      <td>1</td>\n",
       "      <td>1</td>\n",
       "      <td>3</td>\n",
       "      <td>110.0</td>\n",
       "      <td>...</td>\n",
       "      <td>36.4</td>\n",
       "      <td>NaN</td>\n",
       "      <td>5</td>\n",
       "      <td>Complex regional pain syndrome type II</td>\n",
       "      <td>1</td>\n",
       "      <td>5</td>\n",
       "      <td>0</td>\n",
       "      <td>60</td>\n",
       "      <td>2.00</td>\n",
       "      <td>0</td>\n",
       "    </tr>\n",
       "    <tr>\n",
       "      <th>71</th>\n",
       "      <td>2</td>\n",
       "      <td>1</td>\n",
       "      <td>41</td>\n",
       "      <td>3</td>\n",
       "      <td>2</td>\n",
       "      <td>Open Wound</td>\n",
       "      <td>1</td>\n",
       "      <td>1</td>\n",
       "      <td>3</td>\n",
       "      <td>130.0</td>\n",
       "      <td>...</td>\n",
       "      <td>36.6</td>\n",
       "      <td>98.0</td>\n",
       "      <td>4</td>\n",
       "      <td>Open wound of head, part unspecified</td>\n",
       "      <td>1</td>\n",
       "      <td>4</td>\n",
       "      <td>0</td>\n",
       "      <td>125</td>\n",
       "      <td>4.00</td>\n",
       "      <td>0</td>\n",
       "    </tr>\n",
       "    <tr>\n",
       "      <th>87</th>\n",
       "      <td>1</td>\n",
       "      <td>1</td>\n",
       "      <td>81</td>\n",
       "      <td>2</td>\n",
       "      <td>1</td>\n",
       "      <td>dizziness</td>\n",
       "      <td>1</td>\n",
       "      <td>0</td>\n",
       "      <td>#BOÞ!</td>\n",
       "      <td>154.0</td>\n",
       "      <td>...</td>\n",
       "      <td>35.7</td>\n",
       "      <td>NaN</td>\n",
       "      <td>3</td>\n",
       "      <td>Dizziness</td>\n",
       "      <td>1</td>\n",
       "      <td>3</td>\n",
       "      <td>0</td>\n",
       "      <td>332</td>\n",
       "      <td>3.88</td>\n",
       "      <td>0</td>\n",
       "    </tr>\n",
       "    <tr>\n",
       "      <th>99</th>\n",
       "      <td>1</td>\n",
       "      <td>1</td>\n",
       "      <td>22</td>\n",
       "      <td>2</td>\n",
       "      <td>2</td>\n",
       "      <td>headache</td>\n",
       "      <td>1</td>\n",
       "      <td>1</td>\n",
       "      <td>5</td>\n",
       "      <td>106.0</td>\n",
       "      <td>...</td>\n",
       "      <td>36.5</td>\n",
       "      <td>NaN</td>\n",
       "      <td>3</td>\n",
       "      <td>Multiple abrasion</td>\n",
       "      <td>1</td>\n",
       "      <td>3</td>\n",
       "      <td>0</td>\n",
       "      <td>148</td>\n",
       "      <td>6.87</td>\n",
       "      <td>0</td>\n",
       "    </tr>\n",
       "  </tbody>\n",
       "</table>\n",
       "<p>5 rows × 23 columns</p>\n",
       "</div>"
      ],
      "text/plain": [
       "    Grupo  Sexo  Edad  Modo_Llegada  Lesion Queja_Principal  Estado_Mental  \\\n",
       "20      1     2    78             3       1       dizziness              1   \n",
       "55      2     2    40             3       1   Leg pain, NOS              1   \n",
       "71      2     1    41             3       2      Open Wound              1   \n",
       "87      1     1    81             2       1       dizziness              1   \n",
       "99      1     1    22             2       2        headache              1   \n",
       "\n",
       "    Dolor dolor_NRS    SBP  ...    BT  Saturacion  KTAS_enfermera  \\\n",
       "20      0     #BOÞ!  132.0  ...  36.8         NaN               3   \n",
       "55      1         3  110.0  ...  36.4         NaN               5   \n",
       "71      1         3  130.0  ...  36.6        98.0               4   \n",
       "87      0     #BOÞ!  154.0  ...  35.7         NaN               3   \n",
       "99      1         5  106.0  ...  36.5         NaN               3   \n",
       "\n",
       "                  Diagnostico_En_Urgencias  Disposicion  KTAS_experto  \\\n",
       "20                               Dizziness            1             3   \n",
       "55  Complex regional pain syndrome type II            1             5   \n",
       "71    Open wound of head, part unspecified            1             4   \n",
       "87                               Dizziness            1             3   \n",
       "99                       Multiple abrasion            1             3   \n",
       "\n",
       "   Grupo_De_Error  Duracion_Estancia_Min  Duracion_KTAS_Min  Error_Triaje  \n",
       "20              0                    129               5.38             0  \n",
       "55              0                     60               2.00             0  \n",
       "71              0                    125               4.00             0  \n",
       "87              0                    332               3.88             0  \n",
       "99              0                    148               6.87             0  \n",
       "\n",
       "[5 rows x 23 columns]"
      ]
     },
     "execution_count": 232,
     "metadata": {},
     "output_type": "execute_result"
    }
   ],
   "source": [
    "datos.loc[datos.duplicated(subset=candidatas, keep=False)].head(5)"
   ]
  },
  {
   "cell_type": "code",
   "execution_count": 233,
   "metadata": {},
   "outputs": [
    {
     "data": {
      "text/plain": [
       "72"
      ]
     },
     "execution_count": 233,
     "metadata": {},
     "output_type": "execute_result"
    }
   ],
   "source": [
    "duplicated_rows = datos.loc[datos.duplicated(subset=candidatas, keep=False)].shape[0]\n",
    "duplicated_rows"
   ]
  },
  {
   "cell_type": "code",
   "execution_count": 234,
   "metadata": {},
   "outputs": [
    {
     "name": "stdout",
     "output_type": "stream",
     "text": [
      "Duplicates: 7.2000%\n"
     ]
    }
   ],
   "source": [
    "print(f\"Duplicates: {(duplicated_rows/total_rows)*100:.4f}%\")"
   ]
  },
  {
   "cell_type": "code",
   "execution_count": 235,
   "metadata": {},
   "outputs": [
    {
     "data": {
      "text/html": [
       "<div>\n",
       "<style scoped>\n",
       "    .dataframe tbody tr th:only-of-type {\n",
       "        vertical-align: middle;\n",
       "    }\n",
       "\n",
       "    .dataframe tbody tr th {\n",
       "        vertical-align: top;\n",
       "    }\n",
       "\n",
       "    .dataframe thead th {\n",
       "        text-align: right;\n",
       "    }\n",
       "</style>\n",
       "<table border=\"1\" class=\"dataframe\">\n",
       "  <thead>\n",
       "    <tr style=\"text-align: right;\">\n",
       "      <th></th>\n",
       "      <th>Grupo</th>\n",
       "      <th>Sexo</th>\n",
       "      <th>Edad</th>\n",
       "      <th>Modo_Llegada</th>\n",
       "      <th>Lesion</th>\n",
       "      <th>Queja_Principal</th>\n",
       "      <th>Estado_Mental</th>\n",
       "      <th>Dolor</th>\n",
       "      <th>dolor_NRS</th>\n",
       "      <th>SBP</th>\n",
       "      <th>...</th>\n",
       "      <th>BT</th>\n",
       "      <th>Saturacion</th>\n",
       "      <th>KTAS_enfermera</th>\n",
       "      <th>Diagnostico_En_Urgencias</th>\n",
       "      <th>Disposicion</th>\n",
       "      <th>KTAS_experto</th>\n",
       "      <th>Grupo_De_Error</th>\n",
       "      <th>Duracion_Estancia_Min</th>\n",
       "      <th>Duracion_KTAS_Min</th>\n",
       "      <th>Error_Triaje</th>\n",
       "    </tr>\n",
       "  </thead>\n",
       "  <tbody>\n",
       "    <tr>\n",
       "      <th>996</th>\n",
       "      <td>1</td>\n",
       "      <td>1</td>\n",
       "      <td>27</td>\n",
       "      <td>3</td>\n",
       "      <td>1</td>\n",
       "      <td>Suicidal Attempt</td>\n",
       "      <td>1</td>\n",
       "      <td>0</td>\n",
       "      <td>#BOÞ!</td>\n",
       "      <td>110.0</td>\n",
       "      <td>...</td>\n",
       "      <td>36.2</td>\n",
       "      <td>NaN</td>\n",
       "      <td>3</td>\n",
       "      <td>Suicide tendency</td>\n",
       "      <td>2</td>\n",
       "      <td>3</td>\n",
       "      <td>0</td>\n",
       "      <td>442</td>\n",
       "      <td>7.42</td>\n",
       "      <td>0</td>\n",
       "    </tr>\n",
       "    <tr>\n",
       "      <th>997</th>\n",
       "      <td>1</td>\n",
       "      <td>2</td>\n",
       "      <td>54</td>\n",
       "      <td>2</td>\n",
       "      <td>1</td>\n",
       "      <td>pain, chest</td>\n",
       "      <td>1</td>\n",
       "      <td>1</td>\n",
       "      <td>6</td>\n",
       "      <td>159.0</td>\n",
       "      <td>...</td>\n",
       "      <td>36.6</td>\n",
       "      <td>NaN</td>\n",
       "      <td>2</td>\n",
       "      <td>Gastroesophageal reflux disease</td>\n",
       "      <td>1</td>\n",
       "      <td>2</td>\n",
       "      <td>0</td>\n",
       "      <td>214</td>\n",
       "      <td>4.95</td>\n",
       "      <td>0</td>\n",
       "    </tr>\n",
       "    <tr>\n",
       "      <th>998</th>\n",
       "      <td>1</td>\n",
       "      <td>1</td>\n",
       "      <td>19</td>\n",
       "      <td>3</td>\n",
       "      <td>1</td>\n",
       "      <td>eye discomfort</td>\n",
       "      <td>1</td>\n",
       "      <td>0</td>\n",
       "      <td>#BOÞ!</td>\n",
       "      <td>132.0</td>\n",
       "      <td>...</td>\n",
       "      <td>36.5</td>\n",
       "      <td>NaN</td>\n",
       "      <td>4</td>\n",
       "      <td>Corneal erosion</td>\n",
       "      <td>1</td>\n",
       "      <td>4</td>\n",
       "      <td>0</td>\n",
       "      <td>50</td>\n",
       "      <td>3.45</td>\n",
       "      <td>0</td>\n",
       "    </tr>\n",
       "    <tr>\n",
       "      <th>999</th>\n",
       "      <td>1</td>\n",
       "      <td>2</td>\n",
       "      <td>29</td>\n",
       "      <td>3</td>\n",
       "      <td>1</td>\n",
       "      <td>pain, abdominal</td>\n",
       "      <td>1</td>\n",
       "      <td>1</td>\n",
       "      <td>6</td>\n",
       "      <td>137.0</td>\n",
       "      <td>...</td>\n",
       "      <td>37.6</td>\n",
       "      <td>NaN</td>\n",
       "      <td>3</td>\n",
       "      <td>Allergic reaction</td>\n",
       "      <td>1</td>\n",
       "      <td>3</td>\n",
       "      <td>0</td>\n",
       "      <td>116</td>\n",
       "      <td>5.97</td>\n",
       "      <td>0</td>\n",
       "    </tr>\n",
       "  </tbody>\n",
       "</table>\n",
       "<p>4 rows × 23 columns</p>\n",
       "</div>"
      ],
      "text/plain": [
       "     Grupo  Sexo  Edad  Modo_Llegada  Lesion   Queja_Principal  Estado_Mental  \\\n",
       "996      1     1    27             3       1  Suicidal Attempt              1   \n",
       "997      1     2    54             2       1       pain, chest              1   \n",
       "998      1     1    19             3       1    eye discomfort              1   \n",
       "999      1     2    29             3       1   pain, abdominal              1   \n",
       "\n",
       "     Dolor dolor_NRS    SBP  ...    BT  Saturacion  KTAS_enfermera  \\\n",
       "996      0     #BOÞ!  110.0  ...  36.2         NaN               3   \n",
       "997      1         6  159.0  ...  36.6         NaN               2   \n",
       "998      0     #BOÞ!  132.0  ...  36.5         NaN               4   \n",
       "999      1         6  137.0  ...  37.6         NaN               3   \n",
       "\n",
       "            Diagnostico_En_Urgencias  Disposicion  KTAS_experto  \\\n",
       "996                 Suicide tendency            2             3   \n",
       "997  Gastroesophageal reflux disease            1             2   \n",
       "998                  Corneal erosion            1             4   \n",
       "999                Allergic reaction            1             3   \n",
       "\n",
       "    Grupo_De_Error  Duracion_Estancia_Min  Duracion_KTAS_Min  Error_Triaje  \n",
       "996              0                    442               7.42             0  \n",
       "997              0                    214               4.95             0  \n",
       "998              0                     50               3.45             0  \n",
       "999              0                    116               5.97             0  \n",
       "\n",
       "[4 rows x 23 columns]"
      ]
     },
     "execution_count": 235,
     "metadata": {},
     "output_type": "execute_result"
    }
   ],
   "source": [
    "datos.loc[datos.duplicated(subset=candidatas+[\"Duracion_Estancia_Min\"], keep=False)].tail(4)"
   ]
  },
  {
   "cell_type": "code",
   "execution_count": 236,
   "metadata": {},
   "outputs": [
    {
     "data": {
      "text/plain": [
       "67"
      ]
     },
     "execution_count": 236,
     "metadata": {},
     "output_type": "execute_result"
    }
   ],
   "source": [
    "duplicated_rows = datos.loc[datos.duplicated(subset=candidatas+[\"Duracion_Estancia_Min\"], keep=False)].shape[0]\n",
    "duplicated_rows"
   ]
  },
  {
   "cell_type": "code",
   "execution_count": 237,
   "metadata": {},
   "outputs": [
    {
     "name": "stdout",
     "output_type": "stream",
     "text": [
      "Duplicates: 6.7000%\n"
     ]
    }
   ],
   "source": [
    "print(f\"Duplicates: {(duplicated_rows/total_rows)*100:.4f}%\")"
   ]
  },
  {
   "cell_type": "code",
   "execution_count": 238,
   "metadata": {},
   "outputs": [],
   "source": [
    "datos.drop_duplicates(subset=candidatas, inplace=True)\n",
    "datos.drop_duplicates(subset=candidatas+[\"Duracion_Estancia_Min\"], inplace=True)"
   ]
  },
  {
   "cell_type": "code",
   "execution_count": 239,
   "metadata": {},
   "outputs": [
    {
     "data": {
      "text/plain": [
       "(963, 23)"
      ]
     },
     "execution_count": 239,
     "metadata": {},
     "output_type": "execute_result"
    }
   ],
   "source": [
    "datos.shape"
   ]
  }
 ],
 "metadata": {
  "kernelspec": {
   "display_name": "base",
   "language": "python",
   "name": "python3"
  },
  "language_info": {
   "codemirror_mode": {
    "name": "ipython",
    "version": 3
   },
   "file_extension": ".py",
   "mimetype": "text/x-python",
   "name": "python",
   "nbconvert_exporter": "python",
   "pygments_lexer": "ipython3",
   "version": "3.12.3"
  }
 },
 "nbformat": 4,
 "nbformat_minor": 2
}
