{
 "cells": [
  {
   "cell_type": "code",
   "execution_count": 22,
   "metadata": {},
   "outputs": [
    {
     "data": {
      "text/plain": [
       "(1000, 23)"
      ]
     },
     "execution_count": 22,
     "metadata": {},
     "output_type": "execute_result"
    }
   ],
   "source": [
    "import pandas as pd\n",
    "import matplotlib.pyplot as plt\n",
    "import numpy as np\n",
    "\n",
    "datos = pd.read_csv(\"./data/Regresión_train_data.csv\")\n",
    "datos.shape"
   ]
  },
  {
   "cell_type": "code",
   "execution_count": 5,
   "metadata": {},
   "outputs": [
    {
     "data": {
      "text/html": [
       "<div>\n",
       "<style scoped>\n",
       "    .dataframe tbody tr th:only-of-type {\n",
       "        vertical-align: middle;\n",
       "    }\n",
       "\n",
       "    .dataframe tbody tr th {\n",
       "        vertical-align: top;\n",
       "    }\n",
       "\n",
       "    .dataframe thead th {\n",
       "        text-align: right;\n",
       "    }\n",
       "</style>\n",
       "<table border=\"1\" class=\"dataframe\">\n",
       "  <thead>\n",
       "    <tr style=\"text-align: right;\">\n",
       "      <th></th>\n",
       "      <th>Grupo</th>\n",
       "      <th>Sexo</th>\n",
       "      <th>Edad</th>\n",
       "      <th>Modo_Llegada</th>\n",
       "      <th>Lesion</th>\n",
       "      <th>Estado_Mental</th>\n",
       "      <th>Dolor</th>\n",
       "      <th>SBP</th>\n",
       "      <th>DBP</th>\n",
       "      <th>HR</th>\n",
       "      <th>RR</th>\n",
       "      <th>BT</th>\n",
       "      <th>Saturacion</th>\n",
       "      <th>KTAS_enfermera</th>\n",
       "      <th>Disposicion</th>\n",
       "      <th>KTAS_experto</th>\n",
       "      <th>Grupo_De_Error</th>\n",
       "      <th>Duracion_Estancia_Min</th>\n",
       "      <th>Error_Triaje</th>\n",
       "    </tr>\n",
       "  </thead>\n",
       "  <tbody>\n",
       "    <tr>\n",
       "      <th>count</th>\n",
       "      <td>1000.000000</td>\n",
       "      <td>1000.000000</td>\n",
       "      <td>1000.000000</td>\n",
       "      <td>1000.000000</td>\n",
       "      <td>1000.0000</td>\n",
       "      <td>1000.000000</td>\n",
       "      <td>1000.000000</td>\n",
       "      <td>983.000000</td>\n",
       "      <td>979.000000</td>\n",
       "      <td>988.000000</td>\n",
       "      <td>985.000000</td>\n",
       "      <td>989.000000</td>\n",
       "      <td>444.000000</td>\n",
       "      <td>1000.000000</td>\n",
       "      <td>1000.000000</td>\n",
       "      <td>1000.000000</td>\n",
       "      <td>1000.000000</td>\n",
       "      <td>1000.000000</td>\n",
       "      <td>1000.000000</td>\n",
       "    </tr>\n",
       "    <tr>\n",
       "      <th>mean</th>\n",
       "      <td>1.450000</td>\n",
       "      <td>1.514000</td>\n",
       "      <td>53.892000</td>\n",
       "      <td>2.811000</td>\n",
       "      <td>1.2000</td>\n",
       "      <td>1.103000</td>\n",
       "      <td>0.562000</td>\n",
       "      <td>133.485249</td>\n",
       "      <td>79.566905</td>\n",
       "      <td>84.400810</td>\n",
       "      <td>19.450761</td>\n",
       "      <td>36.562993</td>\n",
       "      <td>97.047297</td>\n",
       "      <td>3.328000</td>\n",
       "      <td>1.610000</td>\n",
       "      <td>3.260000</td>\n",
       "      <td>0.569000</td>\n",
       "      <td>12792.480000</td>\n",
       "      <td>0.253000</td>\n",
       "    </tr>\n",
       "    <tr>\n",
       "      <th>std</th>\n",
       "      <td>0.497743</td>\n",
       "      <td>0.500054</td>\n",
       "      <td>19.826483</td>\n",
       "      <td>0.796186</td>\n",
       "      <td>0.4002</td>\n",
       "      <td>0.431946</td>\n",
       "      <td>0.496389</td>\n",
       "      <td>27.156136</td>\n",
       "      <td>15.174593</td>\n",
       "      <td>16.297428</td>\n",
       "      <td>2.069882</td>\n",
       "      <td>0.519699</td>\n",
       "      <td>4.761112</td>\n",
       "      <td>0.862067</td>\n",
       "      <td>1.161572</td>\n",
       "      <td>0.865534</td>\n",
       "      <td>1.587375</td>\n",
       "      <td>87721.151446</td>\n",
       "      <td>0.630387</td>\n",
       "    </tr>\n",
       "    <tr>\n",
       "      <th>min</th>\n",
       "      <td>1.000000</td>\n",
       "      <td>1.000000</td>\n",
       "      <td>16.000000</td>\n",
       "      <td>1.000000</td>\n",
       "      <td>1.0000</td>\n",
       "      <td>1.000000</td>\n",
       "      <td>0.000000</td>\n",
       "      <td>50.000000</td>\n",
       "      <td>31.000000</td>\n",
       "      <td>32.000000</td>\n",
       "      <td>14.000000</td>\n",
       "      <td>35.000000</td>\n",
       "      <td>20.000000</td>\n",
       "      <td>1.000000</td>\n",
       "      <td>1.000000</td>\n",
       "      <td>1.000000</td>\n",
       "      <td>0.000000</td>\n",
       "      <td>0.000000</td>\n",
       "      <td>0.000000</td>\n",
       "    </tr>\n",
       "    <tr>\n",
       "      <th>25%</th>\n",
       "      <td>1.000000</td>\n",
       "      <td>1.000000</td>\n",
       "      <td>36.000000</td>\n",
       "      <td>2.000000</td>\n",
       "      <td>1.0000</td>\n",
       "      <td>1.000000</td>\n",
       "      <td>0.000000</td>\n",
       "      <td>114.000000</td>\n",
       "      <td>70.000000</td>\n",
       "      <td>73.000000</td>\n",
       "      <td>18.000000</td>\n",
       "      <td>36.200000</td>\n",
       "      <td>97.000000</td>\n",
       "      <td>3.000000</td>\n",
       "      <td>1.000000</td>\n",
       "      <td>3.000000</td>\n",
       "      <td>0.000000</td>\n",
       "      <td>132.750000</td>\n",
       "      <td>0.000000</td>\n",
       "    </tr>\n",
       "    <tr>\n",
       "      <th>50%</th>\n",
       "      <td>1.000000</td>\n",
       "      <td>2.000000</td>\n",
       "      <td>56.000000</td>\n",
       "      <td>3.000000</td>\n",
       "      <td>1.0000</td>\n",
       "      <td>1.000000</td>\n",
       "      <td>1.000000</td>\n",
       "      <td>130.000000</td>\n",
       "      <td>80.000000</td>\n",
       "      <td>82.000000</td>\n",
       "      <td>20.000000</td>\n",
       "      <td>36.500000</td>\n",
       "      <td>98.000000</td>\n",
       "      <td>3.000000</td>\n",
       "      <td>1.000000</td>\n",
       "      <td>3.000000</td>\n",
       "      <td>0.000000</td>\n",
       "      <td>270.500000</td>\n",
       "      <td>0.000000</td>\n",
       "    </tr>\n",
       "    <tr>\n",
       "      <th>75%</th>\n",
       "      <td>2.000000</td>\n",
       "      <td>2.000000</td>\n",
       "      <td>70.250000</td>\n",
       "      <td>3.000000</td>\n",
       "      <td>1.0000</td>\n",
       "      <td>1.000000</td>\n",
       "      <td>1.000000</td>\n",
       "      <td>150.000000</td>\n",
       "      <td>90.000000</td>\n",
       "      <td>96.000000</td>\n",
       "      <td>20.000000</td>\n",
       "      <td>36.800000</td>\n",
       "      <td>99.000000</td>\n",
       "      <td>4.000000</td>\n",
       "      <td>2.000000</td>\n",
       "      <td>4.000000</td>\n",
       "      <td>0.000000</td>\n",
       "      <td>620.000000</td>\n",
       "      <td>0.000000</td>\n",
       "    </tr>\n",
       "    <tr>\n",
       "      <th>max</th>\n",
       "      <td>2.000000</td>\n",
       "      <td>2.000000</td>\n",
       "      <td>94.000000</td>\n",
       "      <td>7.000000</td>\n",
       "      <td>2.0000</td>\n",
       "      <td>4.000000</td>\n",
       "      <td>1.000000</td>\n",
       "      <td>275.000000</td>\n",
       "      <td>160.000000</td>\n",
       "      <td>148.000000</td>\n",
       "      <td>30.000000</td>\n",
       "      <td>39.800000</td>\n",
       "      <td>100.000000</td>\n",
       "      <td>5.000000</td>\n",
       "      <td>7.000000</td>\n",
       "      <td>5.000000</td>\n",
       "      <td>9.000000</td>\n",
       "      <td>709510.000000</td>\n",
       "      <td>2.000000</td>\n",
       "    </tr>\n",
       "  </tbody>\n",
       "</table>\n",
       "</div>"
      ],
      "text/plain": [
       "             Grupo         Sexo         Edad  Modo_Llegada     Lesion  \\\n",
       "count  1000.000000  1000.000000  1000.000000   1000.000000  1000.0000   \n",
       "mean      1.450000     1.514000    53.892000      2.811000     1.2000   \n",
       "std       0.497743     0.500054    19.826483      0.796186     0.4002   \n",
       "min       1.000000     1.000000    16.000000      1.000000     1.0000   \n",
       "25%       1.000000     1.000000    36.000000      2.000000     1.0000   \n",
       "50%       1.000000     2.000000    56.000000      3.000000     1.0000   \n",
       "75%       2.000000     2.000000    70.250000      3.000000     1.0000   \n",
       "max       2.000000     2.000000    94.000000      7.000000     2.0000   \n",
       "\n",
       "       Estado_Mental        Dolor         SBP         DBP          HR  \\\n",
       "count    1000.000000  1000.000000  983.000000  979.000000  988.000000   \n",
       "mean        1.103000     0.562000  133.485249   79.566905   84.400810   \n",
       "std         0.431946     0.496389   27.156136   15.174593   16.297428   \n",
       "min         1.000000     0.000000   50.000000   31.000000   32.000000   \n",
       "25%         1.000000     0.000000  114.000000   70.000000   73.000000   \n",
       "50%         1.000000     1.000000  130.000000   80.000000   82.000000   \n",
       "75%         1.000000     1.000000  150.000000   90.000000   96.000000   \n",
       "max         4.000000     1.000000  275.000000  160.000000  148.000000   \n",
       "\n",
       "               RR          BT  Saturacion  KTAS_enfermera  Disposicion  \\\n",
       "count  985.000000  989.000000  444.000000     1000.000000  1000.000000   \n",
       "mean    19.450761   36.562993   97.047297        3.328000     1.610000   \n",
       "std      2.069882    0.519699    4.761112        0.862067     1.161572   \n",
       "min     14.000000   35.000000   20.000000        1.000000     1.000000   \n",
       "25%     18.000000   36.200000   97.000000        3.000000     1.000000   \n",
       "50%     20.000000   36.500000   98.000000        3.000000     1.000000   \n",
       "75%     20.000000   36.800000   99.000000        4.000000     2.000000   \n",
       "max     30.000000   39.800000  100.000000        5.000000     7.000000   \n",
       "\n",
       "       KTAS_experto  Grupo_De_Error  Duracion_Estancia_Min  Error_Triaje  \n",
       "count   1000.000000     1000.000000            1000.000000   1000.000000  \n",
       "mean       3.260000        0.569000           12792.480000      0.253000  \n",
       "std        0.865534        1.587375           87721.151446      0.630387  \n",
       "min        1.000000        0.000000               0.000000      0.000000  \n",
       "25%        3.000000        0.000000             132.750000      0.000000  \n",
       "50%        3.000000        0.000000             270.500000      0.000000  \n",
       "75%        4.000000        0.000000             620.000000      0.000000  \n",
       "max        5.000000        9.000000          709510.000000      2.000000  "
      ]
     },
     "execution_count": 5,
     "metadata": {},
     "output_type": "execute_result"
    }
   ],
   "source": [
    "datos.describe()"
   ]
  },
  {
   "cell_type": "code",
   "execution_count": 8,
   "metadata": {},
   "outputs": [
    {
     "data": {
      "text/plain": [
       "Sexo\n",
       "2    514\n",
       "1    486\n",
       "Name: count, dtype: int64"
      ]
     },
     "execution_count": 8,
     "metadata": {},
     "output_type": "execute_result"
    }
   ],
   "source": [
    "datos[\"Sexo\"].value_counts()\n"
   ]
  },
  {
   "cell_type": "code",
   "execution_count": 9,
   "metadata": {},
   "outputs": [
    {
     "data": {
      "text/plain": [
       "Error_Triaje\n",
       "0    851\n",
       "2    104\n",
       "1     45\n",
       "Name: count, dtype: int64"
      ]
     },
     "execution_count": 9,
     "metadata": {},
     "output_type": "execute_result"
    }
   ],
   "source": [
    "datos[\"Error_Triaje\"].value_counts()"
   ]
  },
  {
   "cell_type": "code",
   "execution_count": 12,
   "metadata": {},
   "outputs": [
    {
     "data": {
      "text/plain": [
       "Grupo_De_Error\n",
       "0    851\n",
       "1     16\n",
       "2     39\n",
       "3      6\n",
       "4     50\n",
       "5     11\n",
       "6      6\n",
       "7      7\n",
       "8      9\n",
       "9      5\n",
       "Name: count, dtype: int64"
      ]
     },
     "execution_count": 12,
     "metadata": {},
     "output_type": "execute_result"
    }
   ],
   "source": [
    "datos[\"Grupo_De_Error\"].value_counts().sort_index()\n"
   ]
  },
  {
   "cell_type": "code",
   "execution_count": 24,
   "metadata": {},
   "outputs": [
    {
     "data": {
      "text/plain": [
       "<matplotlib.collections.PathCollection at 0x2471c6e26c0>"
      ]
     },
     "execution_count": 24,
     "metadata": {},
     "output_type": "execute_result"
    },
    {
     "data": {
      "image/png": "[encoded data removed]",
      "text/plain": [
       "<Figure size 640x480 with 1 Axes>"
      ]
     },
     "metadata": {},
     "output_type": "display_data"
    }
   ],
   "source": [
    "datos[[\"KTAS_enfermera\",\"KTAS_experto\",\"Error_Triaje\"]]\n",
    "a = datos[datos[\"KTAS_enfermera\"]!=datos[\"KTAS_experto\"]][[\"KTAS_enfermera\",\"KTAS_experto\",\"Error_Triaje\"]]\n",
    "a[a[\"Error_Triaje\"]==1]\n",
    "plt.scatter(datos[\"KTAS_experto\"],datos[\"KTAS_enfermera\"])\n"
   ]
  }
 ],
 "metadata": {
  "kernelspec": {
   "display_name": "base",
   "language": "python",
   "name": "python3"
  },
  "language_info": {
   "codemirror_mode": {
    "name": "ipython",
    "version": 3
   },
   "file_extension": ".py",
   "mimetype": "text/x-python",
   "name": "python",
   "nbconvert_exporter": "python",
   "pygments_lexer": "ipython3",
   "version": "3.12.3"
  }
 },
 "nbformat": 4,
 "nbformat_minor": 2
}
